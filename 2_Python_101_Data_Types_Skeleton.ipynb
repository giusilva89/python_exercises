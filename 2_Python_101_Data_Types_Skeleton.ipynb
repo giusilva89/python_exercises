{
  "nbformat": 4,
  "nbformat_minor": 0,
  "metadata": {
    "colab": {
      "name": "2. Python 101 - Data Types - Skeleton.ipynb",
      "provenance": [],
      "collapsed_sections": [],
      "toc_visible": true,
      "include_colab_link": true
    },
    "kernelspec": {
      "name": "python3",
      "display_name": "Python 3"
    }
  },
  "cells": [
    {
      "cell_type": "markdown",
      "metadata": {
        "id": "view-in-github",
        "colab_type": "text"
      },
      "source": [
        "<a href=\"https://colab.research.google.com/github/giusilva89/python_exercises/blob/main/2_Python_101_Data_Types_Skeleton.ipynb\" target=\"_parent\"><img src=\"https://colab.research.google.com/assets/colab-badge.svg\" alt=\"Open In Colab\"/></a>"
      ]
    },
    {
      "cell_type": "markdown",
      "metadata": {
        "id": "jAvAN1PiB8bc"
      },
      "source": [
        "# 1. BOOLEANS"
      ]
    },
    {
      "cell_type": "code",
      "metadata": {
        "id": "nQxJN0ShB_Ae",
        "colab": {
          "base_uri": "https://localhost:8080/"
        },
        "outputId": "d447ebc1-e2fb-42ba-edce-8dc146e7231e"
      },
      "source": [
        "# Boolean values can be represented as one of two constant objects \"False\" and \"True\". \n",
        "# Booleans behave like integers 0 and 1.\n",
        "True"
      ],
      "execution_count": 2,
      "outputs": [
        {
          "output_type": "execute_result",
          "data": {
            "text/plain": [
              "True"
            ]
          },
          "metadata": {
            "tags": []
          },
          "execution_count": 2
        }
      ]
    },
    {
      "cell_type": "code",
      "metadata": {
        "id": "MWOLRKg-B_D6",
        "colab": {
          "base_uri": "https://localhost:8080/"
        },
        "outputId": "33f06979-b10c-43fc-e949-e78c6a8f5d19"
      },
      "source": [
        "False"
      ],
      "execution_count": 3,
      "outputs": [
        {
          "output_type": "execute_result",
          "data": {
            "text/plain": [
              "False"
            ]
          },
          "metadata": {
            "tags": []
          },
          "execution_count": 3
        }
      ]
    },
    {
      "cell_type": "code",
      "metadata": {
        "id": "oDfoK28ZB_SO",
        "colab": {
          "base_uri": "https://localhost:8080/"
        },
        "outputId": "cec9ce15-af39-4d8b-ae48-f5614c506a1a"
      },
      "source": [
        "False"
      ],
      "execution_count": 4,
      "outputs": [
        {
          "output_type": "execute_result",
          "data": {
            "text/plain": [
              "False"
            ]
          },
          "metadata": {
            "tags": []
          },
          "execution_count": 4
        }
      ]
    },
    {
      "cell_type": "code",
      "metadata": {
        "id": "gtIF2EiPxpOj",
        "outputId": "c75f3f9c-e9b5-4e9e-f561-04cf8f1585e4",
        "colab": {
          "base_uri": "https://localhost:8080/"
        }
      },
      "source": [
        "x1 = 20\n",
        "x2 = 30\n",
        "print(x1 == x2)"
      ],
      "execution_count": 17,
      "outputs": [
        {
          "output_type": "stream",
          "text": [
            "False\n"
          ],
          "name": "stdout"
        }
      ]
    },
    {
      "cell_type": "markdown",
      "metadata": {
        "id": "zK3GTZaCFwNt"
      },
      "source": [
        "**MINI CHALLENGE #1:** \n",
        "- **What will this code generate?**\n",
        "```\n",
        "stock_1_price = 20\n",
        "stock_2_price = 30\n",
        "print((stock_1_price < stock_2_price))\n",
        "print(stock_1_price == stock_2_price)\n",
        "```"
      ]
    },
    {
      "cell_type": "code",
      "metadata": {
        "id": "Fk7waP-xUtan",
        "outputId": "8dc831b9-4648-435f-d7fb-8146198242a0",
        "colab": {
          "base_uri": "https://localhost:8080/"
        }
      },
      "source": [
        "stock_1_price = 20\n",
        "stock_2_price = 30\n",
        "print((stock_1_price < stock_2_price))\n",
        "print(stock_1_price == stock_2_price)"
      ],
      "execution_count": 5,
      "outputs": [
        {
          "output_type": "stream",
          "text": [
            "True\n",
            "False\n"
          ],
          "name": "stdout"
        }
      ]
    },
    {
      "cell_type": "markdown",
      "metadata": {
        "id": "_5r-dUNX7nfy"
      },
      "source": [
        "# 2. LIST"
      ]
    },
    {
      "cell_type": "code",
      "metadata": {
        "id": "F27HZd8a60zD",
        "colab": {
          "base_uri": "https://localhost:8080/"
        },
        "outputId": "f411f58b-4b32-41fa-d531-b6e363be9bf9"
      },
      "source": [
        "# A list is a collection which is ordered and changeable. \n",
        "# List allows duplicate members.\n",
        "a = [1,2,3]\n",
        "a"
      ],
      "execution_count": 10,
      "outputs": [
        {
          "output_type": "execute_result",
          "data": {
            "text/plain": [
              "[1, 2, 3]"
            ]
          },
          "metadata": {
            "tags": []
          },
          "execution_count": 10
        }
      ]
    },
    {
      "cell_type": "code",
      "metadata": {
        "id": "AeHE6akU70RX",
        "colab": {
          "base_uri": "https://localhost:8080/"
        },
        "outputId": "47764b3a-e5fc-4927-88ab-da3def0a5bb6"
      },
      "source": [
        "# Obtain the datatype\n",
        "\n",
        "type(a)"
      ],
      "execution_count": 8,
      "outputs": [
        {
          "output_type": "execute_result",
          "data": {
            "text/plain": [
              "list"
            ]
          },
          "metadata": {
            "tags": []
          },
          "execution_count": 8
        }
      ]
    },
    {
      "cell_type": "code",
      "metadata": {
        "id": "qaiXmQs570Vv",
        "colab": {
          "base_uri": "https://localhost:8080/"
        },
        "outputId": "c3bf8b5b-bc68-4209-d7ae-b3c2d0e46b9a"
      },
      "source": [
        "# list with mixed datatypes (for example you can have strings and integers in one list)\n",
        "b = [2, 'GOOG', 5]\n",
        "b"
      ],
      "execution_count": 11,
      "outputs": [
        {
          "output_type": "execute_result",
          "data": {
            "text/plain": [
              "[2, 'GOOG', 5]"
            ]
          },
          "metadata": {
            "tags": []
          },
          "execution_count": 11
        }
      ]
    },
    {
      "cell_type": "code",
      "metadata": {
        "id": "PNJjE3qX70YR",
        "colab": {
          "base_uri": "https://localhost:8080/"
        },
        "outputId": "315137d3-db7c-4682-f8fa-a79564b426a1"
      },
      "source": [
        "# You can have a list inside another list (nested list)\n",
        "c = ['GOOG', [3,6,7]]\n",
        "c"
      ],
      "execution_count": 13,
      "outputs": [
        {
          "output_type": "execute_result",
          "data": {
            "text/plain": [
              "['GOOG', [3, 6, 7]]"
            ]
          },
          "metadata": {
            "tags": []
          },
          "execution_count": 13
        }
      ]
    },
    {
      "cell_type": "code",
      "metadata": {
        "id": "yergeXdz436p",
        "outputId": "31e773fd-9cf2-4ba4-eb45-26a1a8b4f716",
        "colab": {
          "base_uri": "https://localhost:8080/"
        }
      },
      "source": [
        "c[1][1]"
      ],
      "execution_count": 34,
      "outputs": [
        {
          "output_type": "execute_result",
          "data": {
            "text/plain": [
              "6"
            ]
          },
          "metadata": {
            "tags": []
          },
          "execution_count": 34
        }
      ]
    },
    {
      "cell_type": "code",
      "metadata": {
        "id": "XZZiMb2c70f6",
        "colab": {
          "base_uri": "https://localhost:8080/",
          "height": 35
        },
        "outputId": "05f8b70a-91a1-4a33-f281-d0a62fd111bd"
      },
      "source": [
        "# Access specific elements in the list with Indexing\n",
        "# Note that the first element in the list has an index of 0 (little confusing but you'll get used to it!)\n",
        "c[0]"
      ],
      "execution_count": 14,
      "outputs": [
        {
          "output_type": "execute_result",
          "data": {
            "application/vnd.google.colaboratory.intrinsic+json": {
              "type": "string"
            },
            "text/plain": [
              "'GOOG'"
            ]
          },
          "metadata": {
            "tags": []
          },
          "execution_count": 14
        }
      ]
    },
    {
      "cell_type": "code",
      "metadata": {
        "id": "9UD9945ZuDDX",
        "outputId": "c0e5807a-5789-4f18-edff-061ca2e4bf27",
        "colab": {
          "base_uri": "https://localhost:8080/"
        }
      },
      "source": [
        "c[1][1]"
      ],
      "execution_count": 15,
      "outputs": [
        {
          "output_type": "execute_result",
          "data": {
            "text/plain": [
              "6"
            ]
          },
          "metadata": {
            "tags": []
          },
          "execution_count": 15
        }
      ]
    },
    {
      "cell_type": "code",
      "metadata": {
        "id": "kgmQ5vi_uKyY",
        "outputId": "c4d01594-9911-41ea-d8c5-006e2e9c3a43",
        "colab": {
          "base_uri": "https://localhost:8080/"
        }
      },
      "source": [
        "c[1][2]"
      ],
      "execution_count": 16,
      "outputs": [
        {
          "output_type": "execute_result",
          "data": {
            "text/plain": [
              "7"
            ]
          },
          "metadata": {
            "tags": []
          },
          "execution_count": 16
        }
      ]
    },
    {
      "cell_type": "code",
      "metadata": {
        "id": "I6z3Ls6R70iU",
        "colab": {
          "base_uri": "https://localhost:8080/"
        },
        "outputId": "32a622da-0266-407a-b687-d190b53f9e86"
      },
      "source": [
        "# indexing for nested lists\n",
        "d = ['GOOG', [3, 6, 7], ['AAPL', 5,6]]\n",
        "d"
      ],
      "execution_count": 19,
      "outputs": [
        {
          "output_type": "execute_result",
          "data": {
            "text/plain": [
              "['GOOG', [3, 6, 7], ['AAPL', 5, 6]]"
            ]
          },
          "metadata": {
            "tags": []
          },
          "execution_count": 19
        }
      ]
    },
    {
      "cell_type": "code",
      "metadata": {
        "id": "5Bx9hZPc70o4",
        "colab": {
          "base_uri": "https://localhost:8080/"
        },
        "outputId": "26f881e8-2d06-46bc-9cc1-7ba98cc2fd9f"
      },
      "source": [
        "d[1][1]"
      ],
      "execution_count": 20,
      "outputs": [
        {
          "output_type": "execute_result",
          "data": {
            "text/plain": [
              "6"
            ]
          },
          "metadata": {
            "tags": []
          },
          "execution_count": 20
        }
      ]
    },
    {
      "cell_type": "code",
      "metadata": {
        "id": "hEHd__Zr70nj",
        "colab": {
          "base_uri": "https://localhost:8080/",
          "height": 35
        },
        "outputId": "0874d6e6-5bff-453a-a5f5-b3358854154f"
      },
      "source": [
        "d[2][0]"
      ],
      "execution_count": 21,
      "outputs": [
        {
          "output_type": "execute_result",
          "data": {
            "application/vnd.google.colaboratory.intrinsic+json": {
              "type": "string"
            },
            "text/plain": [
              "'AAPL'"
            ]
          },
          "metadata": {
            "tags": []
          },
          "execution_count": 21
        }
      ]
    },
    {
      "cell_type": "code",
      "metadata": {
        "id": "4KVMQSCO70lg",
        "colab": {
          "base_uri": "https://localhost:8080/"
        },
        "outputId": "3fa3a361-981b-4b68-b76f-cb05fa3ae7cd"
      },
      "source": [
        "# Negative Indexing\n",
        "# Index starts at -1 \n",
        "e = ['GOOG', 3, 5]\n",
        "e"
      ],
      "execution_count": 25,
      "outputs": [
        {
          "output_type": "execute_result",
          "data": {
            "text/plain": [
              "['GOOG', 3, 5]"
            ]
          },
          "metadata": {
            "tags": []
          },
          "execution_count": 25
        }
      ]
    },
    {
      "cell_type": "code",
      "metadata": {
        "id": "WmRQ1HL15GvA",
        "outputId": "541466e5-d356-4bed-b0db-3f3c5ff80258",
        "colab": {
          "base_uri": "https://localhost:8080/"
        }
      },
      "source": [
        "e[2]"
      ],
      "execution_count": 35,
      "outputs": [
        {
          "output_type": "execute_result",
          "data": {
            "text/plain": [
              "5"
            ]
          },
          "metadata": {
            "tags": []
          },
          "execution_count": 35
        }
      ]
    },
    {
      "cell_type": "code",
      "metadata": {
        "id": "rkVBe5dx07O5",
        "outputId": "3a9fe7e4-0892-4dd9-db7e-a651d0032307",
        "colab": {
          "base_uri": "https://localhost:8080/"
        }
      },
      "source": [
        "e[-1]"
      ],
      "execution_count": 26,
      "outputs": [
        {
          "output_type": "execute_result",
          "data": {
            "text/plain": [
              "5"
            ]
          },
          "metadata": {
            "tags": []
          },
          "execution_count": 26
        }
      ]
    },
    {
      "cell_type": "code",
      "metadata": {
        "id": "XLFFBT2v1JQu",
        "outputId": "a70d478c-7e34-4815-bb0f-b483229435f4",
        "colab": {
          "base_uri": "https://localhost:8080/"
        }
      },
      "source": [
        "e[-2]"
      ],
      "execution_count": 27,
      "outputs": [
        {
          "output_type": "execute_result",
          "data": {
            "text/plain": [
              "3"
            ]
          },
          "metadata": {
            "tags": []
          },
          "execution_count": 27
        }
      ]
    },
    {
      "cell_type": "code",
      "metadata": {
        "id": "y5T623rI1K5-",
        "outputId": "e9c9c67b-ea4c-4674-f007-b11d7deef2cc",
        "colab": {
          "base_uri": "https://localhost:8080/",
          "height": 35
        }
      },
      "source": [
        "e[-3]"
      ],
      "execution_count": 28,
      "outputs": [
        {
          "output_type": "execute_result",
          "data": {
            "application/vnd.google.colaboratory.intrinsic+json": {
              "type": "string"
            },
            "text/plain": [
              "'GOOG'"
            ]
          },
          "metadata": {
            "tags": []
          },
          "execution_count": 28
        }
      ]
    },
    {
      "cell_type": "code",
      "metadata": {
        "id": "-Bw1wI_h70dw",
        "colab": {
          "base_uri": "https://localhost:8080/"
        },
        "outputId": "3c23944a-9f0d-40ba-cacc-0deb94306cad"
      },
      "source": [
        "# List Slicing (getting more than one element from a list) \n",
        "f = [ 2,5,7,'GOOG', 'SP500', 'AMZN']\n",
        "\n",
        "\n",
        "# obtain elements starting from index 3 up to and not including element with index 6  \n",
        "f[3:6]"
      ],
      "execution_count": 30,
      "outputs": [
        {
          "output_type": "execute_result",
          "data": {
            "text/plain": [
              "['GOOG', 'SP500', 'AMZN']"
            ]
          },
          "metadata": {
            "tags": []
          },
          "execution_count": 30
        }
      ]
    },
    {
      "cell_type": "code",
      "metadata": {
        "id": "MWA9yG1E5NXV",
        "outputId": "d65aab9a-76ec-4e37-80a6-b89f9ea0a5ab",
        "colab": {
          "base_uri": "https://localhost:8080/"
        }
      },
      "source": [
        "f[2:4]"
      ],
      "execution_count": 37,
      "outputs": [
        {
          "output_type": "execute_result",
          "data": {
            "text/plain": [
              "[7, 'GOOG']"
            ]
          },
          "metadata": {
            "tags": []
          },
          "execution_count": 37
        }
      ]
    },
    {
      "cell_type": "code",
      "metadata": {
        "id": "VGsNNIpn9ILB",
        "colab": {
          "base_uri": "https://localhost:8080/"
        },
        "outputId": "40670a44-dfea-49f9-d3e5-4605df5a5b47"
      },
      "source": [
        "# Obtain elements starting from index 3 to end\n",
        "g = [2,5,7,'GOOG', 'SP500', 'AMZN', 15]\n",
        "g[3:7]"
      ],
      "execution_count": 2,
      "outputs": [
        {
          "output_type": "execute_result",
          "data": {
            "text/plain": [
              "['GOOG', 'SP500', 'AMZN', 15]"
            ]
          },
          "metadata": {
            "tags": []
          },
          "execution_count": 2
        }
      ]
    },
    {
      "cell_type": "code",
      "metadata": {
        "id": "JF5M4vtj5cU1",
        "outputId": "cd5adf10-fff3-4d17-d5a4-242a3af6f4f4",
        "colab": {
          "base_uri": "https://localhost:8080/"
        }
      },
      "source": [
        "g"
      ],
      "execution_count": 3,
      "outputs": [
        {
          "output_type": "execute_result",
          "data": {
            "text/plain": [
              "[2, 5, 7, 'GOOG', 'SP500', 'AMZN', 15]"
            ]
          },
          "metadata": {
            "tags": []
          },
          "execution_count": 3
        }
      ]
    },
    {
      "cell_type": "code",
      "metadata": {
        "id": "9rFTt5Yo5eHt",
        "outputId": "e39af30c-f3e7-46bb-efdb-897993df5f40",
        "colab": {
          "base_uri": "https://localhost:8080/"
        }
      },
      "source": [
        "g[0:7]"
      ],
      "execution_count": 4,
      "outputs": [
        {
          "output_type": "execute_result",
          "data": {
            "text/plain": [
              "[2, 5, 7, 'GOOG', 'SP500', 'AMZN', 15]"
            ]
          },
          "metadata": {
            "tags": []
          },
          "execution_count": 4
        }
      ]
    },
    {
      "cell_type": "code",
      "metadata": {
        "id": "W0Z8oCAC9IJL",
        "colab": {
          "base_uri": "https://localhost:8080/"
        },
        "outputId": "c904a510-1c30-4167-a3c0-d0f6a6e0105e"
      },
      "source": [
        "# All elements start to end\n",
        "g[:]"
      ],
      "execution_count": 6,
      "outputs": [
        {
          "output_type": "execute_result",
          "data": {
            "text/plain": [
              "[2, 5, 7, 'GOOG', 'SP500', 'AMZN', 15]"
            ]
          },
          "metadata": {
            "tags": []
          },
          "execution_count": 6
        }
      ]
    },
    {
      "cell_type": "code",
      "metadata": {
        "id": "Z4sY6MEJ9IGv",
        "colab": {
          "base_uri": "https://localhost:8080/"
        },
        "outputId": "492bb7c4-ec69-4152-c832-67b26ad0ab35"
      },
      "source": [
        "# Obtain the length of the list (how many elements in the list) \n",
        "len(g)"
      ],
      "execution_count": 58,
      "outputs": [
        {
          "output_type": "execute_result",
          "data": {
            "text/plain": [
              "7"
            ]
          },
          "metadata": {
            "tags": []
          },
          "execution_count": 58
        }
      ]
    },
    {
      "cell_type": "markdown",
      "metadata": {
        "id": "OarsI67MBPYS"
      },
      "source": [
        "\n",
        "\n",
        "*   List item\n",
        "*   List item\n",
        "\n"
      ]
    },
    {
      "cell_type": "code",
      "metadata": {
        "id": "UmqUBSpaAxKT",
        "outputId": "171f724a-30c2-45bb-c2f9-77ab778eaa17",
        "colab": {
          "base_uri": "https://localhost:8080/"
        }
      },
      "source": [
        "d = ['GOOG', [3, 6, 7], ['AAPL', 5,6], ['AMZN',2]]\n",
        "d[2][2]\n"
      ],
      "execution_count": 75,
      "outputs": [
        {
          "output_type": "execute_result",
          "data": {
            "text/plain": [
              "6"
            ]
          },
          "metadata": {
            "tags": []
          },
          "execution_count": 75
        }
      ]
    },
    {
      "cell_type": "markdown",
      "metadata": {
        "id": "Q1qcVBl7G1GO"
      },
      "source": [
        "**MINI CHALLENGE #2:**\n",
        "- **Print the first, second and last element in the list below**\n",
        "- **Print all elements in the list, first 3 elements, and last three elements**\n",
        "\n",
        "```\n",
        "stocks = [\"GOOG\", \"TSLA\", \"AAPL\", \"T\", \"SP500\", \"BTC\", \"EUR/USD\"]\n",
        "```\n",
        "\n"
      ]
    },
    {
      "cell_type": "code",
      "metadata": {
        "id": "adQzmLx7Y7p7",
        "outputId": "b21d8424-c4f2-479f-88a3-a54a81edad1a",
        "colab": {
          "base_uri": "https://localhost:8080/"
        }
      },
      "source": [
        "stocks = [\"GOOG\", \"TSLA\", \"AAPL\", \"T\", \"SP500\", \"BTC\", \"EUR/USD\"]\n",
        "print(stocks[0])\n",
        "print(stocks[1])\n",
        "print(stocks[-1])\n"
      ],
      "execution_count": 8,
      "outputs": [
        {
          "output_type": "stream",
          "text": [
            "GOOG\n",
            "TSLA\n",
            "EUR/USD\n"
          ],
          "name": "stdout"
        }
      ]
    },
    {
      "cell_type": "code",
      "metadata": {
        "id": "AKw02FTjEO42",
        "outputId": "aa37b3bd-a9ee-4f66-cf97-94d1a4e21e99",
        "colab": {
          "base_uri": "https://localhost:8080/"
        }
      },
      "source": [
        "stocks[:]"
      ],
      "execution_count": 9,
      "outputs": [
        {
          "output_type": "execute_result",
          "data": {
            "text/plain": [
              "['GOOG', 'TSLA', 'AAPL', 'T', 'SP500', 'BTC', 'EUR/USD']"
            ]
          },
          "metadata": {
            "tags": []
          },
          "execution_count": 9
        }
      ]
    },
    {
      "cell_type": "code",
      "metadata": {
        "id": "oEQRY6joEZpA",
        "outputId": "2757fb38-44d6-44b5-c19d-11057d6373bc",
        "colab": {
          "base_uri": "https://localhost:8080/"
        }
      },
      "source": [
        "stocks[-8:-4]"
      ],
      "execution_count": 103,
      "outputs": [
        {
          "output_type": "execute_result",
          "data": {
            "text/plain": [
              "['GOOG', 'TSLA', 'AAPL']"
            ]
          },
          "metadata": {
            "tags": []
          },
          "execution_count": 103
        }
      ]
    },
    {
      "cell_type": "code",
      "metadata": {
        "id": "VJMce1eqEelr",
        "outputId": "a0111f3b-30e8-4acc-8177-3d812fefbf07",
        "colab": {
          "base_uri": "https://localhost:8080/"
        }
      },
      "source": [
        "stocks[-4:-1]"
      ],
      "execution_count": 101,
      "outputs": [
        {
          "output_type": "execute_result",
          "data": {
            "text/plain": [
              "['T', 'SP500', 'BTC']"
            ]
          },
          "metadata": {
            "tags": []
          },
          "execution_count": 101
        }
      ]
    },
    {
      "cell_type": "markdown",
      "metadata": {
        "id": "pqPdr6RNINsf"
      },
      "source": [
        "**MINI CHALLENGE #3:** \n",
        "- **Print GOOG**\n",
        "- **Print AAPL, GOOG, TSLA** \n",
        "- **Print T with two different ways**\n",
        "\n",
        "```\n",
        "my_list = [\"SP500\", [\"AAPL\", \"GOOG\", \"TSLA\"], \"BTC\", \"T\"]\n",
        "```\n"
      ]
    },
    {
      "cell_type": "code",
      "metadata": {
        "id": "jsw2yoB5E5T7",
        "outputId": "49783f2d-ae5d-4dd7-c72f-86aaf6fcf0db",
        "colab": {
          "base_uri": "https://localhost:8080/"
        }
      },
      "source": [
        "my_list = [\"SP500\", [\"AAPL\", \"GOOG\", \"TSLA\"], \"BTC\", \"T\"]\n",
        "print(my_list[1][1])\n",
        "print(my_list[1])\n",
        "print(my_list[3])\n",
        "print(my_list[-1])\n"
      ],
      "execution_count": 117,
      "outputs": [
        {
          "output_type": "stream",
          "text": [
            "GOOG\n",
            "['AAPL', 'GOOG', 'TSLA']\n",
            "T\n",
            "T\n"
          ],
          "name": "stdout"
        }
      ]
    },
    {
      "cell_type": "markdown",
      "metadata": {
        "id": "7a2j5iF8CYCU"
      },
      "source": [
        "# 3. DICTIONARY"
      ]
    },
    {
      "cell_type": "code",
      "metadata": {
        "id": "RrxN16VRCbyz"
      },
      "source": [
        "# my_dict = {'key1':'value1', 'key2':'value2', 'key3':'value3'}\n",
        "# Dictionary consists of a collection of key-value pairs. Each key-value pair maps the key to its corresponding value.\n",
        "# Keys are unique within a dictionary while values may not be. \n",
        "# List elements are accessed by their position in the list, via indexing while Dictionary elements are accessed via keys\n",
        "\n",
        "# Define a dictionary using key-value pairs\n",
        "dic = {'key1': 'value1', 'key2': 'value2', 'key3': 'value3'}"
      ],
      "execution_count": 10,
      "outputs": []
    },
    {
      "cell_type": "code",
      "metadata": {
        "id": "dToa9hHWCcO5",
        "colab": {
          "base_uri": "https://localhost:8080/"
        },
        "outputId": "e21b499e-c5d3-490c-f641-935df0a4202d"
      },
      "source": [
        "# View the dictionary\n",
        "dic"
      ],
      "execution_count": 11,
      "outputs": [
        {
          "output_type": "execute_result",
          "data": {
            "text/plain": [
              "{'key1': 'value1', 'key2': 'value2', 'key3': 'value3'}"
            ]
          },
          "metadata": {
            "tags": []
          },
          "execution_count": 11
        }
      ]
    },
    {
      "cell_type": "code",
      "metadata": {
        "id": "KczBnCdmCcA5",
        "colab": {
          "base_uri": "https://localhost:8080/"
        },
        "outputId": "1e6d60bf-ecaa-4fb1-ff26-d8006a68951a"
      },
      "source": [
        "# Check the data type\n",
        "type(dic)"
      ],
      "execution_count": 12,
      "outputs": [
        {
          "output_type": "execute_result",
          "data": {
            "text/plain": [
              "dict"
            ]
          },
          "metadata": {
            "tags": []
          },
          "execution_count": 12
        }
      ]
    },
    {
      "cell_type": "code",
      "metadata": {
        "id": "dThsTYeaCb-l",
        "colab": {
          "base_uri": "https://localhost:8080/",
          "height": 35
        },
        "outputId": "a073d1f7-9743-492b-cd62-8e9536d70549"
      },
      "source": [
        "# Access specific element in the dictionary using a specific key (ex: Key2)\n",
        "dic['key2']"
      ],
      "execution_count": 13,
      "outputs": [
        {
          "output_type": "execute_result",
          "data": {
            "application/vnd.google.colaboratory.intrinsic+json": {
              "type": "string"
            },
            "text/plain": [
              "'value2'"
            ]
          },
          "metadata": {
            "tags": []
          },
          "execution_count": 13
        }
      ]
    },
    {
      "cell_type": "code",
      "metadata": {
        "id": "Li70lw0jCb87",
        "colab": {
          "base_uri": "https://localhost:8080/"
        },
        "outputId": "fd5676ba-65bc-4b3d-e745-0b1d1c6c1202"
      },
      "source": [
        "# Define a dictionary for a bank client listing all his/her assets! \n",
        "dicti = {'Real estate': 150000, 'stocks': 10000, 'savings': 20000, 'Crypto': 150, 12:1}\n",
        "dicti\n",
        "dicti['stocks']"
      ],
      "execution_count": 16,
      "outputs": [
        {
          "output_type": "execute_result",
          "data": {
            "text/plain": [
              "10000"
            ]
          },
          "metadata": {
            "tags": []
          },
          "execution_count": 16
        }
      ]
    },
    {
      "cell_type": "code",
      "metadata": {
        "id": "G_I_rJsWCb6E",
        "colab": {
          "base_uri": "https://localhost:8080/"
        },
        "outputId": "2d5061fc-ad4c-4cdc-a55f-79e8cff956be"
      },
      "source": [
        "# Access elements in the dictionary\n",
        "print(dicti)"
      ],
      "execution_count": 19,
      "outputs": [
        {
          "output_type": "stream",
          "text": [
            "{'Real estate': 150000, 'stocks': 10000, 'savings': 20000, 'Crypto': 150, 12: 1}\n"
          ],
          "name": "stdout"
        }
      ]
    },
    {
      "cell_type": "code",
      "metadata": {
        "id": "1DigIhEQCb3x",
        "colab": {
          "base_uri": "https://localhost:8080/"
        },
        "outputId": "e66ce020-d2c7-484e-b52a-67307cac4999"
      },
      "source": [
        "# Add a new item to an existing dictionary\n",
        "dicti['Crypto'] = 1500\n",
        "print(dicti)"
      ],
      "execution_count": 21,
      "outputs": [
        {
          "output_type": "stream",
          "text": [
            "{'Real estate': 150000, 'stocks': 10000, 'savings': 20000, 'Crypto': 1500, 12: 1}\n"
          ],
          "name": "stdout"
        }
      ]
    },
    {
      "cell_type": "code",
      "metadata": {
        "id": "m05N8LIiCb0_",
        "colab": {
          "base_uri": "https://localhost:8080/"
        },
        "outputId": "4aebf548-5d4a-42c0-fca5-a9a0d17ce466"
      },
      "source": [
        "# remove an item from the dictionary\n",
        "del dicti['savings']\n",
        "print(dicti)"
      ],
      "execution_count": 24,
      "outputs": [
        {
          "output_type": "stream",
          "text": [
            "{'Real estate': 150000, 'stocks': 10000, 'Crypto': 1500, 12: 1}\n"
          ],
          "name": "stdout"
        }
      ]
    },
    {
      "cell_type": "code",
      "metadata": {
        "id": "c4GKclEzCoMe"
      },
      "source": [
        "# delete the entire dictionary\n",
        "# Note that you cannot print it out again because the entire dictionary has been deleted\n",
        "del dicti"
      ],
      "execution_count": 25,
      "outputs": []
    },
    {
      "cell_type": "code",
      "metadata": {
        "id": "xIOPfWXv5oIH",
        "outputId": "017057d5-21b9-4980-de6a-3bd3d9218450",
        "colab": {
          "base_uri": "https://localhost:8080/",
          "height": 164
        }
      },
      "source": [
        "print(dicti)  # error because dictionary has been deleted!"
      ],
      "execution_count": 26,
      "outputs": [
        {
          "output_type": "error",
          "ename": "NameError",
          "evalue": "ignored",
          "traceback": [
            "\u001b[0;31m---------------------------------------------------------------------------\u001b[0m",
            "\u001b[0;31mNameError\u001b[0m                                 Traceback (most recent call last)",
            "\u001b[0;32m<ipython-input-26-7869f084e17a>\u001b[0m in \u001b[0;36m<module>\u001b[0;34m()\u001b[0m\n\u001b[0;32m----> 1\u001b[0;31m \u001b[0mprint\u001b[0m\u001b[0;34m(\u001b[0m\u001b[0mdicti\u001b[0m\u001b[0;34m)\u001b[0m\u001b[0;34m\u001b[0m\u001b[0;34m\u001b[0m\u001b[0m\n\u001b[0m",
            "\u001b[0;31mNameError\u001b[0m: name 'dicti' is not defined"
          ]
        }
      ]
    },
    {
      "cell_type": "markdown",
      "metadata": {
        "id": "9llozT9XLiqI"
      },
      "source": [
        "**MINI CHALLENGE #4:**\n",
        "- **Create a dictionary with 3 of your favourite stocks and their prices** \n"
      ]
    },
    {
      "cell_type": "code",
      "metadata": {
        "id": "KHOBUBNeKDXr",
        "outputId": "a879f443-2fb1-48d7-dd9b-4d2d89103fb6",
        "colab": {
          "base_uri": "https://localhost:8080/"
        }
      },
      "source": [
        "assets = {'GOOG': 10, 'AAPL': 20, 'AMZN': 30}\n",
        "print(assets)"
      ],
      "execution_count": 28,
      "outputs": [
        {
          "output_type": "stream",
          "text": [
            "{'GOOG': 10, 'AAPL': 20, 'AMZN': 30}\n"
          ],
          "name": "stdout"
        }
      ]
    },
    {
      "cell_type": "markdown",
      "metadata": {
        "id": "6kLIKQOZ6rNe"
      },
      "source": [
        "# 4. STRINGS"
      ]
    },
    {
      "cell_type": "code",
      "metadata": {
        "id": "rDjVcbLd6xJf",
        "colab": {
          "base_uri": "https://localhost:8080/",
          "height": 35
        },
        "outputId": "9bb8affa-ffb0-43aa-9d57-414b7ed98916"
      },
      "source": [
        "# A string in Python is a sequence of characters\n",
        "# String can be enclosed by either double or single quotes\n",
        "'Hello Everyone and Welcome to Python for finance course!'"
      ],
      "execution_count": 29,
      "outputs": [
        {
          "output_type": "execute_result",
          "data": {
            "application/vnd.google.colaboratory.intrinsic+json": {
              "type": "string"
            },
            "text/plain": [
              "'Hello Everyone and Welcome to Python for finance course!'"
            ]
          },
          "metadata": {
            "tags": []
          },
          "execution_count": 29
        }
      ]
    },
    {
      "cell_type": "code",
      "metadata": {
        "id": "Net-Wf6G9nx1"
      },
      "source": [
        "x = 'Hello'"
      ],
      "execution_count": 30,
      "outputs": []
    },
    {
      "cell_type": "code",
      "metadata": {
        "id": "_UN8zNOJ60ud",
        "colab": {
          "base_uri": "https://localhost:8080/"
        },
        "outputId": "8e7adb0c-48df-4788-951b-77fb86dc7d7c"
      },
      "source": [
        "# Obtain the datatype\n",
        "type(x)"
      ],
      "execution_count": 31,
      "outputs": [
        {
          "output_type": "execute_result",
          "data": {
            "text/plain": [
              "str"
            ]
          },
          "metadata": {
            "tags": []
          },
          "execution_count": 31
        }
      ]
    },
    {
      "cell_type": "code",
      "metadata": {
        "id": "2r3aHdjn60wz",
        "colab": {
          "base_uri": "https://localhost:8080/",
          "height": 35
        },
        "outputId": "3802f6e1-ebbd-4cbb-a2a0-975219129b22"
      },
      "source": [
        "# Combining two strings together (Let's combine the first and last name of a bank's client)\n",
        "str1 = 'Laila'\n",
        "str2 = 'Aly'\n",
        "concat = str1+str2\n",
        "concat"
      ],
      "execution_count": 37,
      "outputs": [
        {
          "output_type": "execute_result",
          "data": {
            "application/vnd.google.colaboratory.intrinsic+json": {
              "type": "string"
            },
            "text/plain": [
              "'LailaAly'"
            ]
          },
          "metadata": {
            "tags": []
          },
          "execution_count": 37
        }
      ]
    },
    {
      "cell_type": "code",
      "metadata": {
        "id": "5ILe-Yar9taQ"
      },
      "source": [
        ""
      ],
      "execution_count": 37,
      "outputs": []
    },
    {
      "cell_type": "code",
      "metadata": {
        "id": "8DZ5JbeX601H",
        "colab": {
          "base_uri": "https://localhost:8080/",
          "height": 35
        },
        "outputId": "c7cf89e6-257d-49ce-cfe6-506355d8c339"
      },
      "source": [
        "# You can combine both strings together and add spaces in between\n",
        "concat = str1 +  ' ' + str2\n",
        "concat"
      ],
      "execution_count": 40,
      "outputs": [
        {
          "output_type": "execute_result",
          "data": {
            "application/vnd.google.colaboratory.intrinsic+json": {
              "type": "string"
            },
            "text/plain": [
              "'Laila Aly'"
            ]
          },
          "metadata": {
            "tags": []
          },
          "execution_count": 40
        }
      ]
    },
    {
      "cell_type": "code",
      "metadata": {
        "id": "zOIOaPKf603q",
        "colab": {
          "base_uri": "https://localhost:8080/",
          "height": 35
        },
        "outputId": "c13e55f3-d4ec-4548-8758-082600d63497"
      },
      "source": [
        "# Methods on strings \n",
        "# upper will be used to convert the string into upper case\n",
        "concat.upper()"
      ],
      "execution_count": 41,
      "outputs": [
        {
          "output_type": "execute_result",
          "data": {
            "application/vnd.google.colaboratory.intrinsic+json": {
              "type": "string"
            },
            "text/plain": [
              "'LAILA ALY'"
            ]
          },
          "metadata": {
            "tags": []
          },
          "execution_count": 41
        }
      ]
    },
    {
      "cell_type": "code",
      "metadata": {
        "id": "cX2lIPy-606m",
        "colab": {
          "base_uri": "https://localhost:8080/"
        },
        "outputId": "c11ac312-fe6c-4758-c07c-4f7483c73899"
      },
      "source": [
        "# Split us used to divide up the string into words \n",
        "# The output from split is a list\n",
        "x = 'Hello Everyone and Welcome to Python for Finance Course!'\n",
        "x = x.split()\n",
        "x"
      ],
      "execution_count": 43,
      "outputs": [
        {
          "output_type": "execute_result",
          "data": {
            "text/plain": [
              "['Hello',\n",
              " 'Everyone',\n",
              " 'and',\n",
              " 'Welcome',\n",
              " 'to',\n",
              " 'Python',\n",
              " 'for',\n",
              " 'Finance',\n",
              " 'Course!']"
            ]
          },
          "metadata": {
            "tags": []
          },
          "execution_count": 43
        }
      ]
    },
    {
      "cell_type": "code",
      "metadata": {
        "id": "sL0bYlxv8PLN",
        "colab": {
          "base_uri": "https://localhost:8080/"
        },
        "outputId": "41fafb65-09ba-4e4b-abb5-abefbca1a216"
      },
      "source": [
        "# Let's check that the datatype is list!\n",
        "type(x)"
      ],
      "execution_count": 44,
      "outputs": [
        {
          "output_type": "execute_result",
          "data": {
            "text/plain": [
              "list"
            ]
          },
          "metadata": {
            "tags": []
          },
          "execution_count": 44
        }
      ]
    },
    {
      "cell_type": "code",
      "metadata": {
        "id": "sMlID0mv8Udk",
        "colab": {
          "base_uri": "https://localhost:8080/",
          "height": 35
        },
        "outputId": "ada2dbd7-00e8-44ed-e868-552151613b5b"
      },
      "source": [
        "# you can index any element in the list using indexing\n",
        "x[1]"
      ],
      "execution_count": 45,
      "outputs": [
        {
          "output_type": "execute_result",
          "data": {
            "application/vnd.google.colaboratory.intrinsic+json": {
              "type": "string"
            },
            "text/plain": [
              "'Everyone'"
            ]
          },
          "metadata": {
            "tags": []
          },
          "execution_count": 45
        }
      ]
    },
    {
      "cell_type": "code",
      "metadata": {
        "id": "icNCEq2x609e",
        "colab": {
          "base_uri": "https://localhost:8080/"
        },
        "outputId": "8eed6f21-659e-4f4d-83b2-044e47a015ca"
      },
      "source": [
        "# you can specify which letter could be choosed to perform the split\n",
        "email = 'laila.aly@gmail.com'\n",
        "email = email.split('@')\n",
        "email"
      ],
      "execution_count": 47,
      "outputs": [
        {
          "output_type": "execute_result",
          "data": {
            "text/plain": [
              "['laila.aly', 'gmail.com']"
            ]
          },
          "metadata": {
            "tags": []
          },
          "execution_count": 47
        }
      ]
    },
    {
      "cell_type": "markdown",
      "metadata": {
        "id": "9cN9W4bkM-vs"
      },
      "source": [
        "**MINI CHALLENGE #5:**\n",
        "- **Write a code that takes an input from a bank client asking him/her about their feedback regarding the service. The code should split the client input into words and print them on screen**\n"
      ]
    },
    {
      "cell_type": "code",
      "metadata": {
        "id": "cWKRpQ7WOSnu",
        "outputId": "e511bf35-6a11-4a79-e183-831e30a27241",
        "colab": {
          "base_uri": "https://localhost:8080/"
        }
      },
      "source": [
        "feedback = 'Thanks for reaching us out! Would be able to give a feedback about our services?'\n",
        "feedback = feedback.split(' ')\n",
        "feedback"
      ],
      "execution_count": 55,
      "outputs": [
        {
          "output_type": "execute_result",
          "data": {
            "text/plain": [
              "['Thanks',\n",
              " 'for',\n",
              " 'reaching',\n",
              " 'us',\n",
              " 'out!',\n",
              " 'Would',\n",
              " 'be',\n",
              " 'able',\n",
              " 'to',\n",
              " 'give',\n",
              " 'a',\n",
              " 'feedback',\n",
              " 'about',\n",
              " 'our',\n",
              " 'services?']"
            ]
          },
          "metadata": {
            "tags": []
          },
          "execution_count": 55
        }
      ]
    },
    {
      "cell_type": "markdown",
      "metadata": {
        "id": "EdyxRUooNz5m"
      },
      "source": [
        "**MINI CHALLENGE #6:**\n",
        "- **Write a code that prompts a user requesting his/her e-mail and then extracts the user first name (Note that the e-mail is in firstname.lastname@gmail.com**\n"
      ]
    },
    {
      "cell_type": "code",
      "metadata": {
        "id": "0P41ds4zNrKl",
        "outputId": "545b8624-1aa2-4da8-f6c1-601ce869a21b",
        "colab": {
          "base_uri": "https://localhost:8080/"
        }
      },
      "source": [
        "e = 'firstname.lastname@gmail.com'\n",
        "e = e.split('@')\n",
        "e = e[0].split('.')\n",
        "print(e[0])"
      ],
      "execution_count": 61,
      "outputs": [
        {
          "output_type": "stream",
          "text": [
            "firstname\n"
          ],
          "name": "stdout"
        }
      ]
    },
    {
      "cell_type": "markdown",
      "metadata": {
        "id": "A0luXBRqEGai"
      },
      "source": [
        "# 5. TUPLES"
      ]
    },
    {
      "cell_type": "code",
      "metadata": {
        "id": "WNh06IuWENEw"
      },
      "source": [
        "# A tuple is a sequence of immutable Python objects. \n",
        "# Tuples are sequences, just like lists. \n",
        "# The differences between tuples and lists are, the tuples cannot be changed unlike lists and tuples use parentheses, whereas lists use square brackets."
      ],
      "execution_count": null,
      "outputs": []
    },
    {
      "cell_type": "code",
      "metadata": {
        "id": "U0fyXOJPENDi",
        "colab": {
          "base_uri": "https://localhost:8080/"
        },
        "outputId": "20aceadf-fe34-4c1e-8989-1dfd16c1984b"
      },
      "source": [
        "tuple_1 = ('GOOG', 'APPL', 10, 15, 1992)\n",
        "tuple_2 = (5,7,10,12)\n",
        "print(type(tuple_1))\n",
        "print(type(tuple_2))"
      ],
      "execution_count": 62,
      "outputs": [
        {
          "output_type": "stream",
          "text": [
            "<class 'tuple'>\n",
            "<class 'tuple'>\n"
          ],
          "name": "stdout"
        }
      ]
    },
    {
      "cell_type": "code",
      "metadata": {
        "id": "my6d1Ou-EM-y",
        "colab": {
          "base_uri": "https://localhost:8080/",
          "height": 35
        },
        "outputId": "679ae74e-d8d0-438c-f2c4-60d88fda1fc3"
      },
      "source": [
        "# Accessing elements in a tuple\n",
        "tuple_1[1]"
      ],
      "execution_count": 63,
      "outputs": [
        {
          "output_type": "execute_result",
          "data": {
            "application/vnd.google.colaboratory.intrinsic+json": {
              "type": "string"
            },
            "text/plain": [
              "'APPL'"
            ]
          },
          "metadata": {
            "tags": []
          },
          "execution_count": 63
        }
      ]
    },
    {
      "cell_type": "code",
      "metadata": {
        "id": "IIeC1e3qEWz6",
        "colab": {
          "base_uri": "https://localhost:8080/"
        },
        "outputId": "6df66e29-34af-403f-e674-c62fdf7cb205"
      },
      "source": [
        "# Tuple slicing -- getting all but the last\n",
        "tuple_1[:-1]"
      ],
      "execution_count": 66,
      "outputs": [
        {
          "output_type": "execute_result",
          "data": {
            "text/plain": [
              "('GOOG', 'APPL', 10, 15)"
            ]
          },
          "metadata": {
            "tags": []
          },
          "execution_count": 66
        }
      ]
    },
    {
      "cell_type": "code",
      "metadata": {
        "id": "o_yady6jEWwL",
        "colab": {
          "base_uri": "https://localhost:8080/",
          "height": 198
        },
        "outputId": "a5baf0db-cadb-4721-d714-1cc4b86b5ef8"
      },
      "source": [
        "# Changing a vlue of a tuple does not work! \n",
        "# 'tuple' object does not support item assignment\n",
        "tuple_1[1] = 100  # it won't work because tuples are immutable!"
      ],
      "execution_count": 67,
      "outputs": [
        {
          "output_type": "error",
          "ename": "TypeError",
          "evalue": "ignored",
          "traceback": [
            "\u001b[0;31m---------------------------------------------------------------------------\u001b[0m",
            "\u001b[0;31mTypeError\u001b[0m                                 Traceback (most recent call last)",
            "\u001b[0;32m<ipython-input-67-132be460a2e2>\u001b[0m in \u001b[0;36m<module>\u001b[0;34m()\u001b[0m\n\u001b[1;32m      1\u001b[0m \u001b[0;31m# Changing a vlue of a tuple does not work!\u001b[0m\u001b[0;34m\u001b[0m\u001b[0;34m\u001b[0m\u001b[0;34m\u001b[0m\u001b[0m\n\u001b[1;32m      2\u001b[0m \u001b[0;31m# 'tuple' object does not support item assignment\u001b[0m\u001b[0;34m\u001b[0m\u001b[0;34m\u001b[0m\u001b[0;34m\u001b[0m\u001b[0m\n\u001b[0;32m----> 3\u001b[0;31m \u001b[0mtuple_1\u001b[0m\u001b[0;34m[\u001b[0m\u001b[0;36m1\u001b[0m\u001b[0;34m]\u001b[0m \u001b[0;34m=\u001b[0m \u001b[0;36m100\u001b[0m  \u001b[0;31m# it won't work because tuples are immutable!\u001b[0m\u001b[0;34m\u001b[0m\u001b[0;34m\u001b[0m\u001b[0m\n\u001b[0m",
            "\u001b[0;31mTypeError\u001b[0m: 'tuple' object does not support item assignment"
          ]
        }
      ]
    },
    {
      "cell_type": "code",
      "metadata": {
        "id": "BCgEz7CdEWuP",
        "colab": {
          "base_uri": "https://localhost:8080/"
        },
        "outputId": "6722dfab-2d29-4dbb-d3cc-398e522eca9c"
      },
      "source": [
        "# Create a New Tuple from existing Tuples\n",
        "# Combining tuples is possible!\n",
        "tuple_3 = tuple_1 + tuple_2\n",
        "tuple_3"
      ],
      "execution_count": 68,
      "outputs": [
        {
          "output_type": "execute_result",
          "data": {
            "text/plain": [
              "('GOOG', 'APPL', 10, 15, 1992, 5, 7, 10, 12)"
            ]
          },
          "metadata": {
            "tags": []
          },
          "execution_count": 68
        }
      ]
    },
    {
      "cell_type": "markdown",
      "metadata": {
        "id": "RmZ49NcKPKII"
      },
      "source": [
        "**MINI CHALLENGE #7:**\n",
        "- **Define a tuple with your first name, last name, age and the number of stocks in your portfolio. Find the length and type as well.**\n"
      ]
    },
    {
      "cell_type": "code",
      "metadata": {
        "id": "xMKjCcejQtJI",
        "outputId": "61816d65-3fd0-4aef-ee79-89e66a5ccc16",
        "colab": {
          "base_uri": "https://localhost:8080/"
        }
      },
      "source": [
        "my_info = ('Giuliano', 'Silva', 32, 5)\n",
        "print(len(my_info))\n",
        "print(type(my_info))"
      ],
      "execution_count": 69,
      "outputs": [
        {
          "output_type": "stream",
          "text": [
            "4\n",
            "<class 'tuple'>\n"
          ],
          "name": "stdout"
        }
      ]
    },
    {
      "cell_type": "markdown",
      "metadata": {
        "id": "B7clmiIJEJF0"
      },
      "source": [
        "# 6. SETS "
      ]
    },
    {
      "cell_type": "code",
      "metadata": {
        "id": "wRAHn1SiEN2I",
        "colab": {
          "base_uri": "https://localhost:8080/"
        },
        "outputId": "ce834c1b-33cf-4c60-a340-b14c9e33685d"
      },
      "source": [
        "# A set is an unordered collection of items. Every element is unique (no duplicates).\n",
        "# A set is created by placing all the items (elements) inside curly braces {}, separated by comma or by using the built-in function set().\n",
        "# set of integers\n",
        "\n",
        "my_set = {'GOOG', 'T', 'AAPL'}\n",
        "print(my_set)\n",
        "print(type(my_set))\n",
        "print(len(my_set))"
      ],
      "execution_count": 70,
      "outputs": [
        {
          "output_type": "stream",
          "text": [
            "{'AAPL', 'GOOG', 'T'}\n",
            "<class 'set'>\n",
            "3\n"
          ],
          "name": "stdout"
        }
      ]
    },
    {
      "cell_type": "code",
      "metadata": {
        "id": "4Y6cT3ykENzZ",
        "colab": {
          "base_uri": "https://localhost:8080/"
        },
        "outputId": "459a85b4-7522-4319-a7a2-e0f8f42e00be"
      },
      "source": [
        "# set do not have duplicates\n",
        "set_dup = {'T', 'APPL', 'GOOG', 'TSLA', 'AAPL'} # it eliminates the 'AAPL' \n",
        "set_dup"
      ],
      "execution_count": 72,
      "outputs": [
        {
          "output_type": "execute_result",
          "data": {
            "text/plain": [
              "{'AAPL', 'APPL', 'GOOG', 'T', 'TSLA'}"
            ]
          },
          "metadata": {
            "tags": []
          },
          "execution_count": 72
        }
      ]
    },
    {
      "cell_type": "markdown",
      "metadata": {
        "id": "XjibM376ROGD"
      },
      "source": [
        "**MINI CHALLENGE #8:**\n",
        "- **Remove the duplicates from the following list:**\n",
        "\n",
        "\n",
        "```\n",
        "my_list = ['GOOG', 'APPL', 'T','TSLA','T','AAPL', 5, 6,5]\n",
        "```\n",
        "\n",
        "\n"
      ]
    },
    {
      "cell_type": "code",
      "metadata": {
        "id": "EpKrum8GSOuv",
        "outputId": "2d94b10c-4a5f-415a-e4a2-73128f846d14",
        "colab": {
          "base_uri": "https://localhost:8080/"
        }
      },
      "source": [
        "# Just tranform it into a set and call as a list again\n",
        "my_list = ['GOOG', 'APPL', 'T','TSLA','T','AAPL', 5, 6,5]\n",
        "my_list = list(set(my_list))\n",
        "my_list"
      ],
      "execution_count": 76,
      "outputs": [
        {
          "output_type": "execute_result",
          "data": {
            "text/plain": [
              "['GOOG', 5, 6, 'TSLA', 'T', 'APPL', 'AAPL']"
            ]
          },
          "metadata": {
            "tags": []
          },
          "execution_count": 76
        }
      ]
    },
    {
      "cell_type": "code",
      "metadata": {
        "id": "DQrdQXynJ0rG"
      },
      "source": [
        ""
      ],
      "execution_count": null,
      "outputs": []
    },
    {
      "cell_type": "markdown",
      "metadata": {
        "id": "OlonkaQNGdsP"
      },
      "source": [
        "# MINI CHALLENGE SOLUTIONS"
      ]
    },
    {
      "cell_type": "markdown",
      "metadata": {
        "id": "bDojguHPUkBD"
      },
      "source": [
        "**MINI CHALLENGE #1 SOLUTION:** \n",
        "- **What will this code generate?**\n",
        "```\n",
        "stock_1_price = 20\n",
        "stock_2_price = 30\n",
        "print((stock_1_price < stock_2_price))\n",
        "print(stock_1_price == stock_2_price)\n",
        "```"
      ]
    },
    {
      "cell_type": "code",
      "metadata": {
        "id": "wRRbOc1ZUkBG",
        "colab": {
          "base_uri": "https://localhost:8080/",
          "height": 50
        },
        "outputId": "ffb51f81-618b-469c-9003-47060bbd993a"
      },
      "source": [
        "stock_1_price = 20\n",
        "stock_2_price = 30\n",
        "print((stock_1_price < stock_2_price))\n",
        "print(stock_1_price == stock_2_price)"
      ],
      "execution_count": null,
      "outputs": [
        {
          "output_type": "stream",
          "text": [
            "True\n",
            "False\n"
          ],
          "name": "stdout"
        }
      ]
    },
    {
      "cell_type": "markdown",
      "metadata": {
        "id": "T1ru2bTNHmoL"
      },
      "source": [
        "**MINI CHALLENGE #2 SOLUTION:**\n",
        "- **Print the first, second and last element in the list**\n",
        "- **Print all elements in the list, first 3 elements, and last three elements**\n",
        "\n",
        "```\n",
        "stocks = [\"GOOG\", \"TSLA\", \"AAPL\", \"T\", \"SP500\", \"BTC\", \"EUR/USD\"]\n",
        "```\n",
        "\n"
      ]
    },
    {
      "cell_type": "code",
      "metadata": {
        "id": "q9ayDKUZGlrZ",
        "colab": {
          "base_uri": "https://localhost:8080/",
          "height": 67
        },
        "outputId": "14251325-5c06-4f31-9163-c4290f2aeea1"
      },
      "source": [
        "stocks = [\"GOOG\", \"TSLA\", \"AAPL\", \"T\", \"SP500\", \"BTC\", \"EUR/USD\"]\n",
        "print(stocks[0])\n",
        "print(stocks[1])\n",
        "print(stocks[-1])"
      ],
      "execution_count": null,
      "outputs": [
        {
          "output_type": "stream",
          "text": [
            "GOOG\n",
            "TSLA\n",
            "EUR/USD\n"
          ],
          "name": "stdout"
        }
      ]
    },
    {
      "cell_type": "code",
      "metadata": {
        "id": "4WgvQ2ZTdJMZ"
      },
      "source": [
        "print(stocks[:])\n",
        "print(stocks[0:3])\n",
        "print(stocks[4:])"
      ],
      "execution_count": null,
      "outputs": []
    },
    {
      "cell_type": "markdown",
      "metadata": {
        "id": "UkLWVRadJqEx"
      },
      "source": [
        "**MINI CHALLENGE #3 SOLUTION:** \n",
        "- **Print GOOG**\n",
        "- **Print AAPL, GOOG, TSLA** \n",
        "- **Print T with two different ways**\n",
        "\n",
        "```\n",
        "my_list = [\"SP500\", [\"AAPL\", \"GOOG\", \"TSLA\"], \"BTC\", \"T\"]\n",
        "```\n"
      ]
    },
    {
      "cell_type": "code",
      "metadata": {
        "id": "ehC3hFiaJ1tI"
      },
      "source": [
        "my_list = [\"SP500\", [\"AAPL\", \"GOOG\", \"TSLA\"], \"BTC\", \"T\"]"
      ],
      "execution_count": null,
      "outputs": []
    },
    {
      "cell_type": "code",
      "metadata": {
        "id": "gbsBgd3IHtDl",
        "colab": {
          "base_uri": "https://localhost:8080/",
          "height": 34
        },
        "outputId": "310efabf-6f26-49bc-dae0-8f3d6fbaf88b"
      },
      "source": [
        "print(my_list[1][1])"
      ],
      "execution_count": null,
      "outputs": [
        {
          "output_type": "stream",
          "text": [
            "GOOG\n"
          ],
          "name": "stdout"
        }
      ]
    },
    {
      "cell_type": "code",
      "metadata": {
        "id": "0jim9gFbJudm",
        "colab": {
          "base_uri": "https://localhost:8080/",
          "height": 34
        },
        "outputId": "c5de8f72-e9d8-4184-ad6b-028621b98d3c"
      },
      "source": [
        "print(my_list[1])"
      ],
      "execution_count": null,
      "outputs": [
        {
          "output_type": "stream",
          "text": [
            "['AAPL', 'GOOG', 'TSLA']\n"
          ],
          "name": "stdout"
        }
      ]
    },
    {
      "cell_type": "code",
      "metadata": {
        "id": "ze7mvHDaJucK",
        "colab": {
          "base_uri": "https://localhost:8080/",
          "height": 34
        },
        "outputId": "35344c26-3fdf-4ef1-8fce-3c0b1d6c7f5f"
      },
      "source": [
        "print(my_list[3])"
      ],
      "execution_count": null,
      "outputs": [
        {
          "output_type": "stream",
          "text": [
            "T\n"
          ],
          "name": "stdout"
        }
      ]
    },
    {
      "cell_type": "code",
      "metadata": {
        "id": "xrSiB-jqJuYA",
        "colab": {
          "base_uri": "https://localhost:8080/",
          "height": 34
        },
        "outputId": "2fd723d5-a04d-4de8-c070-d23851e13d84"
      },
      "source": [
        "print(my_list[-1])"
      ],
      "execution_count": null,
      "outputs": [
        {
          "output_type": "stream",
          "text": [
            "T\n"
          ],
          "name": "stdout"
        }
      ]
    },
    {
      "cell_type": "markdown",
      "metadata": {
        "id": "R3Wx0fsDMJN5"
      },
      "source": [
        "**MINI CHALLENGE #4 SOLUTION:**\n",
        "- **Create a dictionary with 3 of your favourite stocks and their prices** "
      ]
    },
    {
      "cell_type": "code",
      "metadata": {
        "id": "ySbAAjGkMJ7y",
        "colab": {
          "base_uri": "https://localhost:8080/",
          "height": 34
        },
        "outputId": "1ebb4abe-e06e-43c2-b2bd-c2d832bf59db"
      },
      "source": [
        "stocks = {\"SP500\": 3000, \n",
        "          \"AAPL\": 400,\n",
        "          \"TSLA\": 2200}\n",
        "print(stocks)\n"
      ],
      "execution_count": null,
      "outputs": [
        {
          "output_type": "stream",
          "text": [
            "{'SP500': 3000, 'AAPL': 400, 'TSLA': 2200}\n"
          ],
          "name": "stdout"
        }
      ]
    },
    {
      "cell_type": "markdown",
      "metadata": {
        "id": "_4QByu-tNjpA"
      },
      "source": [
        "**MINI CHALLENGE #5 SOLUTION:**\n",
        "- **Write a code that takes an input from a bank client asking him/her about their feedback regarding the service. The code should split the client input into words and print them on screen**\n"
      ]
    },
    {
      "cell_type": "code",
      "metadata": {
        "id": "nLWrLgB-NjpB",
        "colab": {
          "base_uri": "https://localhost:8080/",
          "height": 50
        },
        "outputId": "3f0f1c9f-7ed4-4898-af9d-09272d1ed727"
      },
      "source": [
        "my_string = str(input(\"What did we do at the bank today? are you satisfied with the service\"))\n",
        "words = my_string.split(\" \")\n",
        "print(\"Here are the list of words you entered:\", words)"
      ],
      "execution_count": null,
      "outputs": [
        {
          "output_type": "stream",
          "text": [
            "What did we do at the bank today? are you satisfied with the serviceMy experience today was positive, the service is perfect! great job everyone\n",
            "Here are the list of words you entered: ['My', 'experience', 'today', 'was', 'positive,', 'the', 'service', 'is', 'perfect!', 'great', 'job', 'everyone']\n"
          ],
          "name": "stdout"
        }
      ]
    },
    {
      "cell_type": "markdown",
      "metadata": {
        "id": "bFCp0wXKOqmz"
      },
      "source": [
        "**MINI CHALLENGE #6 SOLUTION:**\n",
        "- **Write a code that prompts a user requesting his/her e-mail and then extracts the user first name (Note that the e-mail is in firstname.lastname@gmail.com**\n"
      ]
    },
    {
      "cell_type": "code",
      "metadata": {
        "id": "mtgJJ3FaOqm0",
        "colab": {
          "base_uri": "https://localhost:8080/",
          "height": 50
        },
        "outputId": "6b9e8ef7-6da5-4d23-c248-064b96eaed96"
      },
      "source": [
        "input_str = input(\"Welcome to the bank, please enter your e-mail address:\")\n",
        "out_str = input_str.split('@')\n",
        "out_str = out_str[0].split('.')\n",
        "print(out_str[0])"
      ],
      "execution_count": null,
      "outputs": [
        {
          "output_type": "stream",
          "text": [
            "Enter your e-mail address:ryan.ahmed@yahoo.com\n",
            "ryan\n"
          ],
          "name": "stdout"
        }
      ]
    },
    {
      "cell_type": "markdown",
      "metadata": {
        "id": "L0OUSq6pQhNI"
      },
      "source": [
        "**MINI CHALLENGE #7 SOLUTION:**\n",
        "- **Define a tuple with your first name, last name, age and the number of stocks in your portfolio. Find the length and type as well.**\n"
      ]
    },
    {
      "cell_type": "code",
      "metadata": {
        "id": "aACA3yR3QhNJ",
        "colab": {
          "base_uri": "https://localhost:8080/",
          "height": 34
        },
        "outputId": "03b71595-0746-40b0-bc2d-a62014129a6a"
      },
      "source": [
        "my_tuple = (\"Ryan\", \"ahmed\", 25, 10)\n",
        "print(my_tuple)"
      ],
      "execution_count": null,
      "outputs": [
        {
          "output_type": "stream",
          "text": [
            "('Ryan', 'ahmed', 25, 10)\n"
          ],
          "name": "stdout"
        }
      ]
    },
    {
      "cell_type": "code",
      "metadata": {
        "id": "ek6Lj_1YQhNN",
        "colab": {
          "base_uri": "https://localhost:8080/",
          "height": 34
        },
        "outputId": "9139a966-4bfc-4664-a79c-360052d3dbd1"
      },
      "source": [
        "len(my_tuple)"
      ],
      "execution_count": null,
      "outputs": [
        {
          "output_type": "execute_result",
          "data": {
            "text/plain": [
              "4"
            ]
          },
          "metadata": {
            "tags": []
          },
          "execution_count": 85
        }
      ]
    },
    {
      "cell_type": "code",
      "metadata": {
        "id": "wjbkGK-mQhNS",
        "colab": {
          "base_uri": "https://localhost:8080/",
          "height": 34
        },
        "outputId": "0f5292d1-d7d9-4825-edab-86821df5332c"
      },
      "source": [
        "type(my_tuple)"
      ],
      "execution_count": null,
      "outputs": [
        {
          "output_type": "execute_result",
          "data": {
            "text/plain": [
              "tuple"
            ]
          },
          "metadata": {
            "tags": []
          },
          "execution_count": 86
        }
      ]
    },
    {
      "cell_type": "markdown",
      "metadata": {
        "id": "RrBoe1NJRmBi"
      },
      "source": [
        "**MINI CHALLENGE #8 SOLUTION:**\n",
        "- **Remove the duplicates from the following list:**\n",
        "\n",
        "\n",
        "```\n",
        "my_list = ['GOOG', 'APPL', 'T','TSLA','T','AAPL', 5, 6,5]\n",
        "```\n",
        "\n",
        "\n"
      ]
    },
    {
      "cell_type": "code",
      "metadata": {
        "id": "e3rGkHmnRnPf",
        "colab": {
          "base_uri": "https://localhost:8080/",
          "height": 34
        },
        "outputId": "559f6ada-be05-4271-e1f6-0f7004694be5"
      },
      "source": [
        "my_list = ['GOOG', 'APPL', 'T','TSLA','T','AAPL', 5, 6, 5]\n",
        "out_list = list(set(my_list))\n",
        "print(out_list)"
      ],
      "execution_count": null,
      "outputs": [
        {
          "output_type": "stream",
          "text": [
            "[5, 6, 'T', 'APPL', 'GOOG', 'TSLA', 'AAPL']\n"
          ],
          "name": "stdout"
        }
      ]
    },
    {
      "cell_type": "code",
      "metadata": {
        "id": "Cwtyay_9UiZD"
      },
      "source": [
        ""
      ],
      "execution_count": null,
      "outputs": []
    }
  ]
}