{
  "nbformat": 4,
  "nbformat_minor": 0,
  "metadata": {
    "colab": {
      "name": "1. Python 101 - Variables Assignment, Math Ops, Precedence, and Print_Get - Skeleton.ipynb",
      "provenance": [],
      "collapsed_sections": [],
      "include_colab_link": true
    },
    "kernelspec": {
      "name": "python3",
      "display_name": "Python 3"
    }
  },
  "cells": [
    {
      "cell_type": "markdown",
      "metadata": {
        "id": "view-in-github",
        "colab_type": "text"
      },
      "source": [
        "<a href=\"https://colab.research.google.com/github/giusilva89/python_exercises/blob/main/1_Python_101_Variables_Assignment%2C_Math_Ops%2C_Precedence%2C_and_Print_Get_Skeleton.ipynb\" target=\"_parent\"><img src=\"https://colab.research.google.com/assets/colab-badge.svg\" alt=\"Open In Colab\"/></a>"
      ]
    },
    {
      "cell_type": "markdown",
      "metadata": {
        "id": "B1KBXIYhkuw5"
      },
      "source": [
        "# 1. VARIABLES ASSIGNMENT"
      ]
    },
    {
      "cell_type": "code",
      "metadata": {
        "id": "wsrqiWxMlQcd"
      },
      "source": [
        "# Define a variable named \"portfolio_1\" and assign a number (integer) to it\n",
        "portfolio_1 = 1"
      ],
      "execution_count": null,
      "outputs": []
    },
    {
      "cell_type": "code",
      "metadata": {
        "id": "_7BUQ4lalVpE",
        "colab": {
          "base_uri": "https://localhost:8080/"
        },
        "outputId": "36766a72-27f4-409d-8273-49cd78b39e44"
      },
      "source": [
        "# Let's view \"portfolio_1\"\n",
        "portfolio_1"
      ],
      "execution_count": null,
      "outputs": [
        {
          "output_type": "execute_result",
          "data": {
            "text/plain": [
              "1"
            ]
          },
          "metadata": {
            "tags": []
          },
          "execution_count": 2
        }
      ]
    },
    {
      "cell_type": "code",
      "metadata": {
        "id": "5RLjbN6alXBn"
      },
      "source": [
        "# Define a variable named \"portfolio_2\" and assign a number (float) to it\n",
        "portfolio_2 = 1.34324"
      ],
      "execution_count": null,
      "outputs": []
    },
    {
      "cell_type": "code",
      "metadata": {
        "id": "XaseHcnvlY7V",
        "colab": {
          "base_uri": "https://localhost:8080/"
        },
        "outputId": "6e5c2cf4-b061-48d8-d9c5-234aebad159a"
      },
      "source": [
        "# Let's view \"portfolio_2\"\n",
        "portfolio_2"
      ],
      "execution_count": null,
      "outputs": [
        {
          "output_type": "execute_result",
          "data": {
            "text/plain": [
              "1.34324"
            ]
          },
          "metadata": {
            "tags": []
          },
          "execution_count": 4
        }
      ]
    },
    {
      "cell_type": "code",
      "metadata": {
        "id": "1treMfL5phXx"
      },
      "source": [
        "# Let's overwrite \"portfolio_2\" (assume your portfolio value increased)\n",
        "portfolio_2 = 2.3453"
      ],
      "execution_count": null,
      "outputs": []
    },
    {
      "cell_type": "code",
      "metadata": {
        "id": "QaBaDH0fp5cf",
        "colab": {
          "base_uri": "https://localhost:8080/"
        },
        "outputId": "4fbc37b3-a86d-433b-c353-824b2dfc33d6"
      },
      "source": [
        "# Notice that \"portfolio_2\" will only contain the most recent value\n",
        "portfolio_2"
      ],
      "execution_count": null,
      "outputs": [
        {
          "output_type": "execute_result",
          "data": {
            "text/plain": [
              "2.3453"
            ]
          },
          "metadata": {
            "tags": []
          },
          "execution_count": 6
        }
      ]
    },
    {
      "cell_type": "code",
      "metadata": {
        "id": "fqZRkUkilb-5",
        "colab": {
          "base_uri": "https://localhost:8080/"
        },
        "outputId": "e625299d-7577-4945-ef66-0dbe727feaf9"
      },
      "source": [
        "# Get the type of \"portfolio_1\" which is integer\n",
        "# integer is a whole number (no decimals) that could be positive or negative\n",
        "type(portfolio_1)"
      ],
      "execution_count": null,
      "outputs": [
        {
          "output_type": "execute_result",
          "data": {
            "text/plain": [
              "int"
            ]
          },
          "metadata": {
            "tags": []
          },
          "execution_count": 8
        }
      ]
    },
    {
      "cell_type": "code",
      "metadata": {
        "id": "T0Rszu5xlceK",
        "colab": {
          "base_uri": "https://localhost:8080/"
        },
        "outputId": "79998e93-f6f3-470d-ca05-043d31332a94"
      },
      "source": [
        "# Get the type of \"portfolio_2\" which is float\n",
        "# Float are real numbers with a decimal point dividing the integer and fractional parts\n",
        "type(portfolio_2)"
      ],
      "execution_count": null,
      "outputs": [
        {
          "output_type": "execute_result",
          "data": {
            "text/plain": [
              "float"
            ]
          },
          "metadata": {
            "tags": []
          },
          "execution_count": 9
        }
      ]
    },
    {
      "cell_type": "markdown",
      "metadata": {
        "id": "75YN6NcVlv50"
      },
      "source": [
        "**MINI CHALLENGE #1:**\n",
        "- **We defined a variable AMZN (Ticker symbol for Amazon stock) and we assigned these 3 values listed below to it. Without executing any code cells, what will these lines of code generate?**\n",
        "- **Verify your answer by executing the code cells** \n",
        "\n",
        "\n",
        "\n",
        "```\n",
        "AMZN = 3324\n",
        "AMZN = 3400\n",
        "AMZN = 3530\n",
        "AMZN\n",
        "```\n"
      ]
    },
    {
      "cell_type": "code",
      "metadata": {
        "id": "AbXq1BsUpcpu",
        "colab": {
          "base_uri": "https://localhost:8080/"
        },
        "outputId": "d7af52b2-013c-4640-fe31-e44350807b1b"
      },
      "source": [
        "AMZN = 3324\n",
        "AMZN = 3400\n",
        "AMZN = 3530\n",
        "AMZN"
      ],
      "execution_count": null,
      "outputs": [
        {
          "output_type": "execute_result",
          "data": {
            "text/plain": [
              "3530"
            ]
          },
          "metadata": {
            "tags": []
          },
          "execution_count": 11
        }
      ]
    },
    {
      "cell_type": "markdown",
      "metadata": {
        "id": "m-cJsnjeoFOa"
      },
      "source": [
        "**MINI CHALLENGE #2:**\n",
        "- **We defined a variable AAPL (Ticker symbol for Apple stock) and we assigned these 2 values listed below to it. Without executing any code cells, what will these lines of code generate?**\n",
        "- **Verify your answer by executing the code cells** \n",
        "\n",
        "\n",
        "\n",
        "```\n",
        "AAPL = 112\n",
        "AAPL = 115.3\n",
        "type(AAPL)\n",
        "```\n"
      ]
    },
    {
      "cell_type": "code",
      "metadata": {
        "id": "wjaFVDJ2oESl",
        "colab": {
          "base_uri": "https://localhost:8080/"
        },
        "outputId": "2b865ca3-c843-4fda-feed-dd1a3f9e9046"
      },
      "source": [
        "AAPL = 112\n",
        "AAPL = 115.3\n",
        "type(AAPL)"
      ],
      "execution_count": null,
      "outputs": [
        {
          "output_type": "execute_result",
          "data": {
            "text/plain": [
              "float"
            ]
          },
          "metadata": {
            "tags": []
          },
          "execution_count": 12
        }
      ]
    },
    {
      "cell_type": "markdown",
      "metadata": {
        "id": "lsCfJJEkkqGQ"
      },
      "source": [
        "# 2. MATH OPERATIONS"
      ]
    },
    {
      "cell_type": "code",
      "metadata": {
        "id": "vxspxvj2qTrx"
      },
      "source": [
        "# Define a variable named AAPL and initialize it with 5 indicating that we own 5 stocks\n",
        "# Let's assume that we bought an additional stock so now we have 6 stocks instead of 5 \n",
        "# We can increment AAPL by 1 stock as follows:\n",
        "APPL = 5"
      ],
      "execution_count": null,
      "outputs": []
    },
    {
      "cell_type": "code",
      "metadata": {
        "colab": {
          "base_uri": "https://localhost:8080/"
        },
        "id": "4D2HlQ7GPGZN",
        "outputId": "bb83e599-1d41-415a-aea6-f9e9fead3394"
      },
      "source": [
        "APPL = APPL + 1\n",
        "APPL"
      ],
      "execution_count": null,
      "outputs": [
        {
          "output_type": "execute_result",
          "data": {
            "text/plain": [
              "6"
            ]
          },
          "metadata": {
            "tags": []
          },
          "execution_count": 14
        }
      ]
    },
    {
      "cell_type": "code",
      "metadata": {
        "id": "ouiM4Bjar5aG",
        "colab": {
          "base_uri": "https://localhost:8080/"
        },
        "outputId": "505dcab4-b4c3-4849-9614-5d47b8b13d74"
      },
      "source": [
        "# Alternatively, we can increment the variable AAPL by 1 as follows:\n",
        "APPL = 5\n",
        "x = 1\n",
        "APPL = APPL + x\n",
        "APPL"
      ],
      "execution_count": null,
      "outputs": [
        {
          "output_type": "execute_result",
          "data": {
            "text/plain": [
              "6"
            ]
          },
          "metadata": {
            "tags": []
          },
          "execution_count": 32
        }
      ]
    },
    {
      "cell_type": "code",
      "metadata": {
        "id": "4xUFo6mtWZOx",
        "colab": {
          "base_uri": "https://localhost:8080/"
        },
        "outputId": "b0eae92d-175b-4375-f708-e61728373b0a"
      },
      "source": [
        "APPL +=1\n",
        "APPL"
      ],
      "execution_count": null,
      "outputs": [
        {
          "output_type": "execute_result",
          "data": {
            "text/plain": [
              "7"
            ]
          },
          "metadata": {
            "tags": []
          },
          "execution_count": 33
        }
      ]
    },
    {
      "cell_type": "code",
      "metadata": {
        "id": "zkO001-qcZc3",
        "colab": {
          "base_uri": "https://localhost:8080/"
        },
        "outputId": "f05586e6-5e3f-4be6-9257-bbc35d87a41c"
      },
      "source": [
        "# Let's assume that the price of AAPL stock is $260 and we currently have 5 AAPL stocks in our portfolio\n",
        "# We can calculate the total portfolio value (account balance) as follows:\n",
        "quantity = 5\n",
        "price = 260\n",
        "APPL = quantity*price\n",
        "APPL"
      ],
      "execution_count": null,
      "outputs": [
        {
          "output_type": "execute_result",
          "data": {
            "text/plain": [
              "1300"
            ]
          },
          "metadata": {
            "tags": []
          },
          "execution_count": 16
        }
      ]
    },
    {
      "cell_type": "code",
      "metadata": {
        "id": "4bXP93aqejr1",
        "colab": {
          "base_uri": "https://localhost:8080/"
        },
        "outputId": "7a5c342b-2c4f-4e6e-83fc-6ee4f54dd726"
      },
      "source": [
        "# Let's assume you have $20000 USD in our account\n",
        "# We want to buy AMZN stocks using the total amount \n",
        "# AMZN stock is priced at $3116 each\n",
        "\n",
        "AMZN_price = 3116\n",
        "balance = 20000\n",
        "possible_buy = balance / AMZN_price \n",
        "round(possible_buy,0)"
      ],
      "execution_count": null,
      "outputs": [
        {
          "output_type": "execute_result",
          "data": {
            "text/plain": [
              "6.0"
            ]
          },
          "metadata": {
            "tags": []
          },
          "execution_count": 20
        }
      ]
    },
    {
      "cell_type": "code",
      "metadata": {
        "id": "Mc569vLOqxzg",
        "colab": {
          "base_uri": "https://localhost:8080/"
        },
        "outputId": "38d155f2-64bc-4086-91a8-36a4002c0642"
      },
      "source": [
        "# Divide the account balance by Amazon stock price and place the answer in units\n",
        "AMZN_price = 3116\n",
        "balance = 20000\n",
        "possible_buy = balance / AMZN_price \n",
        "round(possible_buy,0)"
      ],
      "execution_count": null,
      "outputs": [
        {
          "output_type": "execute_result",
          "data": {
            "text/plain": [
              "6.0"
            ]
          },
          "metadata": {
            "tags": []
          },
          "execution_count": 21
        }
      ]
    },
    {
      "cell_type": "markdown",
      "metadata": {
        "id": "8UaT7FRdNnCQ"
      },
      "source": [
        "**MINI CHALLENGE #3:** \n",
        "- **Write a code that calculates the total value of a portfolio assuming that you own 15 Google stocks (Sticker Symbol: GOOG) priced at 1500 each** \n"
      ]
    },
    {
      "cell_type": "code",
      "metadata": {
        "id": "qMFnXorONnoa",
        "colab": {
          "base_uri": "https://localhost:8080/"
        },
        "outputId": "f779d127-a97d-411e-b90e-5f0b5074272e"
      },
      "source": [
        "price_goog = 1500\n",
        "quantity_goog = 15\n",
        "total = price_goog*quantity_goog\n",
        "total"
      ],
      "execution_count": null,
      "outputs": [
        {
          "output_type": "execute_result",
          "data": {
            "text/plain": [
              "22500"
            ]
          },
          "metadata": {
            "tags": []
          },
          "execution_count": 22
        }
      ]
    },
    {
      "cell_type": "markdown",
      "metadata": {
        "id": "iB_6pgJeNnCV"
      },
      "source": [
        "**MINI CHALLENGE #4:**\n",
        "- **Write a code that takes in Google (GOOG) stock prices at two days and calculate the return:**\n",
        "  - **GOOG price on day 1 = \\$260** \n",
        "  - **GOOG price on day 2 = \\$280**"
      ]
    },
    {
      "cell_type": "code",
      "metadata": {
        "colab": {
          "base_uri": "https://localhost:8080/"
        },
        "id": "xsaXBT35RAJ8",
        "outputId": "724e0915-51e8-4043-c2ac-1bb419b1a428"
      },
      "source": [
        "goog_1 = 260\n",
        "goog_2 = 280\n",
        "total_diff = goog_2 - goog_1\n",
        "pct_change = round(total_diff / goog_1 * 100,2)\n",
        "pct_change"
      ],
      "execution_count": null,
      "outputs": [
        {
          "output_type": "execute_result",
          "data": {
            "text/plain": [
              "7.69"
            ]
          },
          "metadata": {
            "tags": []
          },
          "execution_count": 7
        }
      ]
    },
    {
      "cell_type": "markdown",
      "metadata": {
        "id": "b_4wxmCklMQE"
      },
      "source": [
        "# 3. ORDER OF OPERATIONS (PRECEDENCE)"
      ]
    },
    {
      "cell_type": "code",
      "metadata": {
        "id": "PDPpISzEkov3",
        "colab": {
          "base_uri": "https://localhost:8080/"
        },
        "outputId": "11d9f1c8-4cbc-4211-e67b-e0f4285564cd"
      },
      "source": [
        "# add 3 and 4 and then multiply the answer by 5\n",
        "# Note that parantheses have the highest precedence\n",
        "(3+4)*5"
      ],
      "execution_count": null,
      "outputs": [
        {
          "output_type": "execute_result",
          "data": {
            "text/plain": [
              "35"
            ]
          },
          "metadata": {
            "tags": []
          },
          "execution_count": 24
        }
      ]
    },
    {
      "cell_type": "code",
      "metadata": {
        "id": "lqvGyX4psG6L",
        "colab": {
          "base_uri": "https://localhost:8080/"
        },
        "outputId": "0450040a-3f0c-40e1-b762-680ada1bf999"
      },
      "source": [
        "# Multiplication has higher precedence compared to addition\n",
        "3+4*5"
      ],
      "execution_count": null,
      "outputs": [
        {
          "output_type": "execute_result",
          "data": {
            "text/plain": [
              "23"
            ]
          },
          "metadata": {
            "tags": []
          },
          "execution_count": 26
        }
      ]
    },
    {
      "cell_type": "code",
      "metadata": {
        "id": "Nx2IPN34sI0A",
        "colab": {
          "base_uri": "https://localhost:8080/"
        },
        "outputId": "827b02aa-78ee-4ebb-9833-53e3dc36dfd2"
      },
      "source": [
        "# Division has higher precedence compared to addition\n",
        "10-4/2"
      ],
      "execution_count": null,
      "outputs": [
        {
          "output_type": "execute_result",
          "data": {
            "text/plain": [
              "8.0"
            ]
          },
          "metadata": {
            "tags": []
          },
          "execution_count": 27
        }
      ]
    },
    {
      "cell_type": "code",
      "metadata": {
        "id": "A-sBw_wsdRTc"
      },
      "source": [
        ""
      ],
      "execution_count": null,
      "outputs": []
    },
    {
      "cell_type": "markdown",
      "metadata": {
        "id": "LD0jeVJddRrf"
      },
      "source": [
        "**MINI CHALLENGE #5:**\n",
        "- **Assume that you own 15 shares of AAPL stock priced at \\$150 a share. Apple announced the launch of 5 new products with exceptional features so the stock price increased to $170 a share. Calculate the total profit.**\n",
        "\n",
        "\n",
        "\n",
        "\n"
      ]
    },
    {
      "cell_type": "code",
      "metadata": {
        "id": "ieENt2DUNwDC",
        "colab": {
          "base_uri": "https://localhost:8080/"
        },
        "outputId": "00fe274f-660c-4690-8be4-a4f03e610b67"
      },
      "source": [
        "q = 15\n",
        "APPL = 150\n",
        "APPL_2 = 170\n",
        "amount = q*APPL\n",
        "amount\n",
        "\n",
        "profit = APPL_2*q - amount\n",
        "profit"
      ],
      "execution_count": null,
      "outputs": [
        {
          "output_type": "execute_result",
          "data": {
            "text/plain": [
              "300"
            ]
          },
          "metadata": {
            "tags": []
          },
          "execution_count": 30
        }
      ]
    },
    {
      "cell_type": "markdown",
      "metadata": {
        "id": "s79S7MtycPGX"
      },
      "source": [
        "**MINI CHALLENGE #6:** \n",
        "- **Write a code that performs the following mathematical operation: z = |x − y| * (x + y)**"
      ]
    },
    {
      "cell_type": "code",
      "metadata": {
        "id": "yGVvKkDKc0LR",
        "colab": {
          "base_uri": "https://localhost:8080/"
        },
        "outputId": "54dd9280-1ab7-4c08-9455-dd3d36871e71"
      },
      "source": [
        "x = 4\n",
        "y = 2\n",
        "# abs stand for absolute number\n",
        "z = abs(x-y) * (x+y)\n",
        "z"
      ],
      "execution_count": null,
      "outputs": [
        {
          "output_type": "execute_result",
          "data": {
            "text/plain": [
              "12"
            ]
          },
          "metadata": {
            "tags": []
          },
          "execution_count": 9
        }
      ]
    },
    {
      "cell_type": "markdown",
      "metadata": {
        "id": "Jvxd_A696qnl"
      },
      "source": [
        "# 4. PRINT OPERATION"
      ]
    },
    {
      "cell_type": "code",
      "metadata": {
        "id": "74NV4Ix36wE2"
      },
      "source": [
        "# Print function is used to print elements on the screen\n",
        "# Define a string x \n",
        "# A string in Python is a sequence of characters\n",
        "# String in python are surrounded by single or double quotation marks\n",
        "x = 'ireland'"
      ],
      "execution_count": null,
      "outputs": []
    },
    {
      "cell_type": "code",
      "metadata": {
        "id": "08UQhKoR8d3H",
        "colab": {
          "base_uri": "https://localhost:8080/"
        },
        "outputId": "fec47d9f-52ab-4bc3-b2e4-543604562a4c"
      },
      "source": [
        "# Obtain the data type for 'x'\n",
        "type(x)"
      ],
      "execution_count": null,
      "outputs": [
        {
          "output_type": "execute_result",
          "data": {
            "text/plain": [
              "str"
            ]
          },
          "metadata": {
            "tags": []
          },
          "execution_count": 12
        }
      ]
    },
    {
      "cell_type": "code",
      "metadata": {
        "id": "1nHBcL7D61YQ",
        "colab": {
          "base_uri": "https://localhost:8080/"
        },
        "outputId": "73829466-802d-4ad3-c20a-6e8e8d5cbb63"
      },
      "source": [
        "# Print x\n",
        "print(x)"
      ],
      "execution_count": null,
      "outputs": [
        {
          "output_type": "stream",
          "text": [
            "ireland\n"
          ],
          "name": "stdout"
        }
      ]
    },
    {
      "cell_type": "code",
      "metadata": {
        "id": "7JUqe3DF7WQv"
      },
      "source": [
        "# Define a string and put 'Apple Inc.' in it\n",
        "app = 'Apple Inc.'"
      ],
      "execution_count": null,
      "outputs": []
    },
    {
      "cell_type": "code",
      "metadata": {
        "id": "J_r5_BGt7Wsg",
        "colab": {
          "base_uri": "https://localhost:8080/"
        },
        "outputId": "349c4dce-cb67-4a04-ebb4-2424d4d54a77"
      },
      "source": [
        "# The format() method formats the specified value and insert it in the placeholder. \n",
        "# The placeholder is defined using curly braces: {}\n",
        "company_name = 'Ticker name for {} is APP'.format(app)\n",
        "print(company_name)"
      ],
      "execution_count": null,
      "outputs": [
        {
          "output_type": "stream",
          "text": [
            "Ticker name for Apple Inc. is APP\n"
          ],
          "name": "stdout"
        }
      ]
    },
    {
      "cell_type": "code",
      "metadata": {
        "id": "cn5wkGcL7Wqs"
      },
      "source": [
        "shares = 30"
      ],
      "execution_count": null,
      "outputs": []
    },
    {
      "cell_type": "code",
      "metadata": {
        "id": "mcIEXuw47Wpk",
        "colab": {
          "base_uri": "https://localhost:8080/"
        },
        "outputId": "796f1323-72e8-4c5b-a0b4-e5ebf586048b"
      },
      "source": [
        "# You can place two or more placeholders with print function \n",
        "new_company = 'I own {} and Ticker name for {} is APP'.format(shares,app)\n",
        "print(new_company)"
      ],
      "execution_count": null,
      "outputs": [
        {
          "output_type": "stream",
          "text": [
            "I own 30 and Ticker name for Apple Inc. is APP\n"
          ],
          "name": "stdout"
        }
      ]
    },
    {
      "cell_type": "markdown",
      "metadata": {
        "id": "__Ybj8rmGKpY"
      },
      "source": [
        "**MINI CHALLENGE #7:**\n",
        "- **Write a code that print out the above statement along with AAPL ticker**\n",
        "- **i.e.: I own 30 shares of Apple Inc.(AAPL)** "
      ]
    },
    {
      "cell_type": "code",
      "metadata": {
        "id": "TosEEJuqBKsB"
      },
      "source": [
        "company_name = 'Apple Inc.'\n",
        "shares = 30\n",
        "ticker = 'AAPL'"
      ],
      "execution_count": null,
      "outputs": []
    },
    {
      "cell_type": "code",
      "metadata": {
        "id": "i6LmOCF6Gd6G",
        "colab": {
          "base_uri": "https://localhost:8080/"
        },
        "outputId": "3273ba22-8c09-4b75-d865-00f50a44deff"
      },
      "source": [
        "# You can place two or more placeholders with print function \n",
        "new_company = 'I own {} shares of {}({})'.format(shares,company_name,ticker)\n",
        "print(new_company)"
      ],
      "execution_count": null,
      "outputs": [
        {
          "output_type": "stream",
          "text": [
            "I own 30 shares of Apple Inc.(AAPL)\n"
          ],
          "name": "stdout"
        }
      ]
    },
    {
      "cell_type": "markdown",
      "metadata": {
        "id": "hp9P-qXN-Gll"
      },
      "source": [
        "# 5. GET USER INPUT"
      ]
    },
    {
      "cell_type": "code",
      "metadata": {
        "id": "FFghOQVi7Wh_",
        "colab": {
          "base_uri": "https://localhost:8080/"
        },
        "outputId": "f1b6d46d-6d97-482b-f04b-38e8a99cab1f"
      },
      "source": [
        "# input is a built-in function in python\n",
        "# Get bank client name as an input and print it out on the screen \n",
        "name = input(' Welcome to the bank, What is your name? ')"
      ],
      "execution_count": null,
      "outputs": [
        {
          "output_type": "stream",
          "text": [
            " Welcome to the bank, What is your name? Giuliano\n"
          ],
          "name": "stdout"
        }
      ]
    },
    {
      "cell_type": "code",
      "metadata": {
        "id": "u4D5GDGP7Wgm",
        "colab": {
          "base_uri": "https://localhost:8080/"
        },
        "outputId": "6fafcf7c-bb92-4aae-9b32-3e0cd833b319"
      },
      "source": [
        "# Obtain bank client data such as name, age and assets and print them all out on the screen\n",
        "name = input(' Welcome to the bank, What is your name? ')\n",
        "age = input(' Enter your age ')\n",
        "networth = input(' Enter your total networth (assets - liabilities)')\n",
        "print('My name is {}, I am {} year old, and my estimated networth is {}'.format(name,age,networth))"
      ],
      "execution_count": null,
      "outputs": [
        {
          "output_type": "stream",
          "text": [
            " Welcome to the bank, What is your name? Giuliano\n",
            " Enter your age 32\n",
            " Enter your total networth (assets - liabilities)3000\n",
            "My name is Giuliano, I am 32 year old, and my estimated networth is 3000\n"
          ],
          "name": "stdout"
        }
      ]
    },
    {
      "cell_type": "code",
      "metadata": {
        "id": "W6hQp4YP7Wdr",
        "colab": {
          "base_uri": "https://localhost:8080/",
          "height": 232
        },
        "outputId": "b9ab3dc1-c031-4535-cef5-635d15199bd5"
      },
      "source": [
        "# Obtain user inputs, perform mathematical operation, and print the results \n",
        "# Note: Are you getting an error? Move to the next code cell \n",
        "x = input(' Enter price of AAPL stock today ')\n",
        "y = input(' Enter the number of AAPL stocks that you want to buy ')\n",
        "print('Total funds required to buy {} shares of AAPL at {} dollars is {}'.format(x,y,x*y))"
      ],
      "execution_count": null,
      "outputs": [
        {
          "output_type": "stream",
          "text": [
            "Enter price of AAPL stock today2000\n",
            "Enter the number of AAPL stocks that you want to buy100\n"
          ],
          "name": "stdout"
        },
        {
          "output_type": "error",
          "ename": "TypeError",
          "evalue": "ignored",
          "traceback": [
            "\u001b[0;31m---------------------------------------------------------------------------\u001b[0m",
            "\u001b[0;31mTypeError\u001b[0m                                 Traceback (most recent call last)",
            "\u001b[0;32m<ipython-input-35-c13c4b09a303>\u001b[0m in \u001b[0;36m<module>\u001b[0;34m()\u001b[0m\n\u001b[1;32m      3\u001b[0m \u001b[0mx\u001b[0m \u001b[0;34m=\u001b[0m \u001b[0minput\u001b[0m\u001b[0;34m(\u001b[0m\u001b[0;34m'Enter price of AAPL stock today'\u001b[0m\u001b[0;34m)\u001b[0m\u001b[0;34m\u001b[0m\u001b[0;34m\u001b[0m\u001b[0m\n\u001b[1;32m      4\u001b[0m \u001b[0my\u001b[0m \u001b[0;34m=\u001b[0m \u001b[0minput\u001b[0m\u001b[0;34m(\u001b[0m\u001b[0;34m'Enter the number of AAPL stocks that you want to buy'\u001b[0m\u001b[0;34m)\u001b[0m\u001b[0;34m\u001b[0m\u001b[0;34m\u001b[0m\u001b[0m\n\u001b[0;32m----> 5\u001b[0;31m \u001b[0mprint\u001b[0m\u001b[0;34m(\u001b[0m\u001b[0;34m'Total funds required to buy {} shares of AAPL at {} dollars is {}'\u001b[0m\u001b[0;34m.\u001b[0m\u001b[0mformat\u001b[0m\u001b[0;34m(\u001b[0m\u001b[0mx\u001b[0m\u001b[0;34m,\u001b[0m\u001b[0my\u001b[0m\u001b[0;34m,\u001b[0m\u001b[0mx\u001b[0m\u001b[0;34m*\u001b[0m\u001b[0my\u001b[0m\u001b[0;34m)\u001b[0m\u001b[0;34m)\u001b[0m\u001b[0;34m\u001b[0m\u001b[0;34m\u001b[0m\u001b[0m\n\u001b[0m",
            "\u001b[0;31mTypeError\u001b[0m: can't multiply sequence by non-int of type 'str'"
          ]
        }
      ]
    },
    {
      "cell_type": "code",
      "metadata": {
        "id": "muMrAhuWMikS"
      },
      "source": [
        "# You can't multiply strings that is the problem above!"
      ],
      "execution_count": null,
      "outputs": []
    },
    {
      "cell_type": "code",
      "metadata": {
        "id": "abPg-86q7Waq",
        "colab": {
          "base_uri": "https://localhost:8080/"
        },
        "outputId": "4e94fae7-5fac-44bf-8a84-be86e847de54"
      },
      "source": [
        "# Convert from string datatype to integer datatype prior to performing addition\n",
        "x = input(' Enter price of AAPL stock today ')\n",
        "# It's necessary to convert the variable into Integer -> Casting into integer\n",
        "x = int(x)\n",
        "y = input(' Enter the number of AAPL stocks that you want to buy ')\n",
        "# It's necessary to convert the variable into Integer -> Casting into integer\n",
        "y = int(y)\n",
        "print('Total funds required to buy {} shares of AAPL at {} dollars is {}'.format(x,y,x*y))"
      ],
      "execution_count": null,
      "outputs": [
        {
          "output_type": "stream",
          "text": [
            " Enter price of AAPL stock today 2000\n",
            " Enter the number of AAPL stocks that you want to buy 100\n",
            "Total funds required to buy 2000 shares of AAPL at 100 dollars is 200000\n"
          ],
          "name": "stdout"
        }
      ]
    },
    {
      "cell_type": "markdown",
      "metadata": {
        "id": "L8v5D4y1CIUQ"
      },
      "source": [
        "**MINI CHALLENGE #8:** \n",
        "- **Write a code that takes in the name of the stock, price at which it is selling, the number of stocks that you want to own and prints out the total funds required to buy this stock. Find a sample expected output below:**\n",
        "\n",
        "  - Enter the price of the stock you want to buy: 3000  \n",
        "  - Enter the number of stocks that you want to buy: 5\n",
        "  - Enter the name of the stock that you want to buy: AMZN\n",
        "  - The total funds required to buy 5 number of AMZN stocks at 3000 is 15000\n"
      ]
    },
    {
      "cell_type": "code",
      "metadata": {
        "colab": {
          "base_uri": "https://localhost:8080/"
        },
        "id": "obUygohsNbBt",
        "outputId": "c5434263-aabd-40f4-a6c7-0acadf117ce9"
      },
      "source": [
        "a = input(' Enter the price of the stock you want to buy: ')\n",
        "a = int(a)\n",
        "b = input(' Enter the number of stocks that you want to buy: ')\n",
        "b = int(b)\n",
        "c = input(' Enter the name of the stock that you want to buy: ')\n",
        "\n",
        "print('The total funds required to buy {} number of {} stocks at {} is {}'.format(b,c,a,a*b))\n"
      ],
      "execution_count": null,
      "outputs": [
        {
          "output_type": "stream",
          "text": [
            " Enter the price of the stock you want to buy: 3000\n",
            " Enter the number of stocks that you want to buy: 5\n",
            " Enter the name of the stock that you want to buy: AMZN\n",
            "The total funds required to buy 5 number of AMZN stocks at 3000 is 15000\n"
          ],
          "name": "stdout"
        }
      ]
    },
    {
      "cell_type": "markdown",
      "metadata": {
        "id": "Jm-0XhPntGtK"
      },
      "source": [
        "# EXCELLENT JOB"
      ]
    },
    {
      "cell_type": "markdown",
      "metadata": {
        "id": "_wuaDbzWm-i8"
      },
      "source": [
        "# MINI CHALLENGES SOLUTIONS"
      ]
    },
    {
      "cell_type": "markdown",
      "metadata": {
        "id": "Xq-Y8OW0nG8O"
      },
      "source": [
        "**MINI CHALLENGE #1:**\n",
        "- **We defined a variable AMZN (Ticker symbol for Amazon stock) and we assigned these 3 values listed below to it. Without executing any code cells, what will these lines of code generate?**\n",
        "- **Verify your answer by executing the code cells** \n",
        "\n",
        "\n",
        "\n",
        "```\n",
        "AMZN = 3324\n",
        "AMZN = 3400\n",
        "AMZN = 3530\n",
        "AMZN\n",
        "```\n"
      ]
    },
    {
      "cell_type": "code",
      "metadata": {
        "id": "R_CHNPWbnAf0"
      },
      "source": [
        "# The output of this code is 3530\n",
        "# Initially we put 3324 in AMZN, then we overwrite it by placing 3400 in AMZN, and then 3530 in AMZN\n",
        "AMZN = 3324\n",
        "AMZN = 3400\n",
        "AMZN = 3530\n",
        "AMZN"
      ],
      "execution_count": null,
      "outputs": []
    },
    {
      "cell_type": "markdown",
      "metadata": {
        "id": "0tFG_HiJoWiM"
      },
      "source": [
        "**MINI CHALLENGE #2:**\n",
        "- **We defined a variable AAPL (Ticker symbol for Apple stock) and we assigned these 2 values listed below to it. Without executing any code cells, what will these lines of code generate?**\n",
        "- **Verify your answer by executing the code cells** \n",
        "\n",
        "\n",
        "\n",
        "```\n",
        "AAPL = 112\n",
        "AAPL = 115.3\n",
        "type(AAPL)\n",
        "```"
      ]
    },
    {
      "cell_type": "code",
      "metadata": {
        "id": "p449NLcAnCbu"
      },
      "source": [
        "AAPL = 112\n",
        "AAPL = 115.3\n",
        "type(AAPL)"
      ],
      "execution_count": null,
      "outputs": []
    },
    {
      "cell_type": "markdown",
      "metadata": {
        "id": "ayH1UnrYYokG"
      },
      "source": [
        "**MINI CHALLENGE #3 SOLUTION:** \n",
        "- **Write a code that calculates the total value of a portfolio assuming that you own 15 Google stocks (Sticker Symbol: GOOG) priced at 1500 each** \n"
      ]
    },
    {
      "cell_type": "code",
      "metadata": {
        "id": "6XGSaa4uoZgs"
      },
      "source": [
        "price  = 1500\n",
        "x  = 15\n",
        "amount = x * price\n",
        "amount"
      ],
      "execution_count": null,
      "outputs": []
    },
    {
      "cell_type": "markdown",
      "metadata": {
        "id": "kfyhdekfaUnr"
      },
      "source": [
        "**MINI CHALLENGE #4 SOLUTION:**\n",
        "- **Write a code that takes in Google (GOOG) stock prices at two days and calculate the return:**\n",
        "  - **GOOG price on day 1 = \\$260** \n",
        "  - **GOOG price on day 2 = \\$280**"
      ]
    },
    {
      "cell_type": "code",
      "metadata": {
        "id": "SUdMEr51Y0cR"
      },
      "source": [
        "GOOG_price_1 = 260\n",
        "GOOG_price_2 = 280\n",
        "\n",
        "price_diff = GOOG_price_2 - GOOG_price_1\n",
        "percentage_change = price_diff / GOOG_price_1 * 100\n",
        "\n",
        "percentage_change"
      ],
      "execution_count": null,
      "outputs": []
    },
    {
      "cell_type": "markdown",
      "metadata": {
        "id": "fSJnUnEvdv3T"
      },
      "source": [
        "**MINI CHALLENGE #5 SOLUTION:**\n",
        "- **Assume that you own 15 shares of AAPL stock priced at \\$150 a share. Apple announced the launch of 5 new products with exceptional features so the stock price increased to $170 a share. Calculate the total profit.**\n"
      ]
    },
    {
      "cell_type": "code",
      "metadata": {
        "id": "xf-UX5aFd11W"
      },
      "source": [
        "AAPL_new = 170\n",
        "AAPL_old = 150\n",
        "num_shares = 15\n",
        "profit = (AAPL_new - AAPL_old) * num_shares   \n",
        "profit"
      ],
      "execution_count": null,
      "outputs": []
    },
    {
      "cell_type": "markdown",
      "metadata": {
        "id": "z0zgdSWqc2oa"
      },
      "source": [
        "**MINI CHALLENGE #6 SOLUTION:** \n",
        "- **Write a code that performs the following mathematical operation: z = |x − y| * (x + y)**"
      ]
    },
    {
      "cell_type": "code",
      "metadata": {
        "id": "zILwh7ILc4kq"
      },
      "source": [
        "x = 4\n",
        "y = 2\n",
        "z = abs(x-y) * (x+y)"
      ],
      "execution_count": null,
      "outputs": []
    },
    {
      "cell_type": "markdown",
      "metadata": {
        "id": "GSto5juvGlGM"
      },
      "source": [
        "**MINI CHALLENGE #7 SOLUTION:**\n",
        "- **Write a code that print out the above statement along with AAPL ticker**\n",
        "- **i.e.: I own 30 shares of Apple Inc.(AAPL)** "
      ]
    },
    {
      "cell_type": "code",
      "metadata": {
        "id": "6YfhUSPhGn46"
      },
      "source": [
        "ticker = 'AAPL'\n",
        "print(\"I own {} shares of {}({})\".format(shares, company_name, ticker))"
      ],
      "execution_count": null,
      "outputs": []
    },
    {
      "cell_type": "markdown",
      "metadata": {
        "id": "iKU27yueFUoI"
      },
      "source": [
        "**MINI CHALLENGE #8 SOLUTION:** \n",
        "- **Write a code that takes in the name of the stock, price at which it is selling, the number of stocks that you want to own and prints out the total funds required to buy this stock. Find a sample expected output below:**\n",
        "\n",
        "  - Enter the price of the stock you want to buy: 3000  \n",
        "  - Enter the number of stocks that you want to buy: 5\n",
        "  - Enter the name of the stock that you want to buy: AMZN\n",
        "  - The total funds required to buy 5 number of AMZN stocks at 3000 is 15000\n",
        "\n"
      ]
    },
    {
      "cell_type": "code",
      "metadata": {
        "id": "YsOyGpwiFWDK"
      },
      "source": [
        "x = input(\"Enter the price of the stock you want to buy: \")\n",
        "x = int(x)\n",
        "y = input(\"Enter the number of stocks that you want to buy: \")\n",
        "y = int(y)\n",
        "z = input(\"Enter the name of the stock that you want to buy: \")\n",
        "print('The total funds required to buy {} number of {} stocks at {} is {}'.format(y,z,x, x*y)) "
      ],
      "execution_count": null,
      "outputs": []
    },
    {
      "cell_type": "code",
      "metadata": {
        "id": "CDRHLx0Tah7T"
      },
      "source": [
        ""
      ],
      "execution_count": null,
      "outputs": []
    }
  ]
}