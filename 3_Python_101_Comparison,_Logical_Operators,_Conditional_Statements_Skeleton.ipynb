{
  "nbformat": 4,
  "nbformat_minor": 0,
  "metadata": {
    "colab": {
      "name": "3. Python 101 - Comparison, Logical Operators, Conditional Statements - Skeleton.ipynb",
      "provenance": [],
      "collapsed_sections": [],
      "include_colab_link": true
    },
    "kernelspec": {
      "name": "python3",
      "display_name": "Python 3"
    }
  },
  "cells": [
    {
      "cell_type": "markdown",
      "metadata": {
        "id": "view-in-github",
        "colab_type": "text"
      },
      "source": [
        "<a href=\"https://colab.research.google.com/github/giusilva89/python_exercises/blob/main/3_Python_101_Comparison%2C_Logical_Operators%2C_Conditional_Statements_Skeleton.ipynb\" target=\"_parent\"><img src=\"https://colab.research.google.com/assets/colab-badge.svg\" alt=\"Open In Colab\"/></a>"
      ]
    },
    {
      "cell_type": "markdown",
      "metadata": {
        "id": "CV9YCHsGtAP5"
      },
      "source": [
        "# 1. COMPARISON OPERATORS\n"
      ]
    },
    {
      "cell_type": "code",
      "metadata": {
        "id": "o9VtOcrKtCc1",
        "colab": {
          "base_uri": "https://localhost:8080/"
        },
        "outputId": "db0f3bf5-6c41-4be5-f8b8-16fa23fd6a05"
      },
      "source": [
        "# Comparison Operator output could be \"True\" or \"False\"\n",
        "# Let's cover equal '==' comparison operator first\n",
        "# It's simply a question: \"Is stock_1_price equals stock_2_price or not?\"\n",
        "# \"True\" output means condition is satisfied \n",
        "# \"False\" output means Condition is not satisfied (condition is not true) \n",
        "\n",
        "stock_price_1 = 20\n",
        "stock_price_2 = 20\n",
        "print(stock_price_1 == stock_price_2)\n",
        "print(type(stock_price_1))\n",
        "print(type(stock_price_2))"
      ],
      "execution_count": 9,
      "outputs": [
        {
          "output_type": "stream",
          "text": [
            "True\n",
            "<class 'int'>\n",
            "<class 'int'>\n"
          ],
          "name": "stdout"
        }
      ]
    },
    {
      "cell_type": "code",
      "metadata": {
        "id": "l48NWuCztX5G",
        "colab": {
          "base_uri": "https://localhost:8080/"
        },
        "outputId": "930245c5-e912-491b-f70c-d22e08b806e4"
      },
      "source": [
        "# Greater than or equal operator '>='\n",
        "stock_price_1 = 40\n",
        "stock_price_2 = 20\n",
        "print(stock_price_1 >= stock_price_2)\n",
        "print(type(stock_price_1))\n",
        "print(type(stock_price_2))"
      ],
      "execution_count": 8,
      "outputs": [
        {
          "output_type": "stream",
          "text": [
            "True\n",
            "<class 'int'>\n",
            "<class 'int'>\n"
          ],
          "name": "stdout"
        }
      ]
    },
    {
      "cell_type": "code",
      "metadata": {
        "id": "RmUrcn31tY0_"
      },
      "source": [
        "# Note that '==' is a comparison operator \n",
        "# Note that '=' is used for variable assignment (put 10 in stock_1_price)\n"
      ],
      "execution_count": null,
      "outputs": []
    },
    {
      "cell_type": "code",
      "metadata": {
        "id": "TttdgxEPtY3z",
        "colab": {
          "base_uri": "https://localhost:8080/"
        },
        "outputId": "2630a862-e2c3-400c-cdc8-ceaa8f241a18"
      },
      "source": [
        "stock_price_3 = 10\n",
        "print(stock_price_3)\n",
        "print(type(stock_price_3))"
      ],
      "execution_count": 7,
      "outputs": [
        {
          "output_type": "stream",
          "text": [
            "10\n",
            "<class 'int'>\n"
          ],
          "name": "stdout"
        }
      ]
    },
    {
      "cell_type": "code",
      "metadata": {
        "id": "9fvPnQePtY9K",
        "colab": {
          "base_uri": "https://localhost:8080/"
        },
        "outputId": "e830d80f-e70a-45ea-a04b-a2700ea49b0b"
      },
      "source": [
        "# Comparison operators work with strings as well\n",
        "first_name = 'Giuliano'\n",
        "last_name = 'Silva'\n",
        "print(first_name == last_name)\n",
        "print(type(first_name))\n",
        "print(type(last_name))"
      ],
      "execution_count": 5,
      "outputs": [
        {
          "output_type": "stream",
          "text": [
            "False\n",
            "<class 'str'>\n",
            "<class 'str'>\n"
          ],
          "name": "stdout"
        }
      ]
    },
    {
      "cell_type": "code",
      "metadata": {
        "id": "krIE9oTdtj-Q",
        "colab": {
          "base_uri": "https://localhost:8080/"
        },
        "outputId": "e56bc58f-f2d0-4e97-da3e-d911278a8aaf"
      },
      "source": [
        "# Both strings have to exactly match (lower case vs. upper case)\n",
        "f_name = 'GIULIANO'\n",
        "f_name_1 = 'Giuliano'\n",
        "print(f_name == f_name_1)"
      ],
      "execution_count": 11,
      "outputs": [
        {
          "output_type": "stream",
          "text": [
            "False\n"
          ],
          "name": "stdout"
        }
      ]
    },
    {
      "cell_type": "code",
      "metadata": {
        "id": "WI6k596Xtlcc",
        "colab": {
          "base_uri": "https://localhost:8080/"
        },
        "outputId": "5f9571e5-c857-4c17-cd29-7a680a07993d"
      },
      "source": [
        "# Not equal comparison operator '!='\n",
        "stock_price_4 = 40\n",
        "stock_price_5 = 70\n",
        "print(stock_price_4 != stock_price_5)\n"
      ],
      "execution_count": 12,
      "outputs": [
        {
          "output_type": "stream",
          "text": [
            "True\n"
          ],
          "name": "stdout"
        }
      ]
    },
    {
      "cell_type": "markdown",
      "metadata": {
        "id": "eNyKRJob4Xlo"
      },
      "source": [
        "**MINI CHALLENGE #1:**\n",
        "- **Without executing the code cell, What will this code generate?**\n",
        "\n",
        "```\n",
        "stock_1_price = 15\n",
        "stock_2_price = 10\n",
        "\n",
        "print(stock_1_price == stock_2_price) \n",
        "print(stock_1_price != stock_2_price) \n",
        "print(stock_1_price > stock_2_price)\n",
        "print(stock_1_price < stock_2_price) \n",
        "```\n"
      ]
    },
    {
      "cell_type": "code",
      "metadata": {
        "id": "-vRyMcIhlVPg"
      },
      "source": [
        "# ANSWERS\n",
        "# False\n",
        "# True\n",
        "# True\n",
        "# False"
      ],
      "execution_count": 13,
      "outputs": []
    },
    {
      "cell_type": "code",
      "metadata": {
        "id": "ZZYnvnLhO1hf",
        "outputId": "6be86d0c-9fa6-4f15-9ea9-a4bfd92837f5",
        "colab": {
          "base_uri": "https://localhost:8080/"
        }
      },
      "source": [
        "# Check!\n",
        "\n",
        "stock_1_price = 15\n",
        "stock_2_price = 10\n",
        " \n",
        "print(stock_1_price == stock_2_price) \n",
        "print(stock_1_price != stock_2_price) \n",
        "print(stock_1_price > stock_2_price)\n",
        "print(stock_1_price < stock_2_price) "
      ],
      "execution_count": 14,
      "outputs": [
        {
          "output_type": "stream",
          "text": [
            "False\n",
            "True\n",
            "True\n",
            "False\n"
          ],
          "name": "stdout"
        }
      ]
    },
    {
      "cell_type": "markdown",
      "metadata": {
        "id": "4ElLliXmvffI"
      },
      "source": [
        "# 2. LOGICAL OPERATORS"
      ]
    },
    {
      "cell_type": "code",
      "metadata": {
        "id": "DZ4lIrr9viXb",
        "colab": {
          "base_uri": "https://localhost:8080/"
        },
        "outputId": "cc98a0e2-5cc4-4add-c1da-863f29c1ba6f"
      },
      "source": [
        "# For \"and\" logical operators, both arguments must be \"True\" in order for the output to be \"True\" \n",
        "# (Note that this is the only case in which the 'and' logical operator generates a True output)\n",
        "# 1 and 1 = 1\n",
        "print(True and True)\n",
        "print(True or False)\n",
        "print(False and True)\n",
        "print(False or True)"
      ],
      "execution_count": 19,
      "outputs": [
        {
          "output_type": "stream",
          "text": [
            "True\n",
            "True\n",
            "False\n",
            "True\n"
          ],
          "name": "stdout"
        }
      ]
    },
    {
      "cell_type": "code",
      "metadata": {
        "id": "tBllQqO2vxPe",
        "colab": {
          "base_uri": "https://localhost:8080/"
        },
        "outputId": "766b8cfd-958b-48b7-b8ea-21e7be0a51e4"
      },
      "source": [
        "# 0 and 1 = 0\n",
        "False and True"
      ],
      "execution_count": 20,
      "outputs": [
        {
          "output_type": "execute_result",
          "data": {
            "text/plain": [
              "False"
            ]
          },
          "metadata": {
            "tags": []
          },
          "execution_count": 20
        }
      ]
    },
    {
      "cell_type": "code",
      "metadata": {
        "id": "ebgLEPrQvy1h",
        "colab": {
          "base_uri": "https://localhost:8080/"
        },
        "outputId": "ee507725-09d9-4185-8e55-4b9b40de9f49"
      },
      "source": [
        "# 0 and 0 = 0\n",
        "False and False"
      ],
      "execution_count": 22,
      "outputs": [
        {
          "output_type": "execute_result",
          "data": {
            "text/plain": [
              "False"
            ]
          },
          "metadata": {
            "tags": []
          },
          "execution_count": 22
        }
      ]
    },
    {
      "cell_type": "code",
      "metadata": {
        "id": "Y_FB6C6yvzqb",
        "colab": {
          "base_uri": "https://localhost:8080/"
        },
        "outputId": "1520e973-5276-49ce-b4d6-8fffdf908d76"
      },
      "source": [
        "# For \"or\" logical operators, if any one of the arguments is \"True\", the output will be \"True\" \n",
        "# 1 or 1 = 1\n",
        "print(True or False)\n",
        "print(False or True)"
      ],
      "execution_count": 24,
      "outputs": [
        {
          "output_type": "stream",
          "text": [
            "True\n",
            "True\n"
          ],
          "name": "stdout"
        }
      ]
    },
    {
      "cell_type": "code",
      "metadata": {
        "id": "kiy1MhGrvzu9",
        "colab": {
          "base_uri": "https://localhost:8080/"
        },
        "outputId": "bbbac693-7e6c-48e2-fa93-12c172fe3b3e"
      },
      "source": [
        "# 1 or 0 = 1\n",
        "True or False"
      ],
      "execution_count": 25,
      "outputs": [
        {
          "output_type": "execute_result",
          "data": {
            "text/plain": [
              "True"
            ]
          },
          "metadata": {
            "tags": []
          },
          "execution_count": 25
        }
      ]
    },
    {
      "cell_type": "code",
      "metadata": {
        "id": "S9Zo0wWovz2j",
        "colab": {
          "base_uri": "https://localhost:8080/"
        },
        "outputId": "6e40ae1a-7534-446c-f7d8-e040a07da7cc"
      },
      "source": [
        "# 0 or 1 = 1\n",
        "False or True\n"
      ],
      "execution_count": 26,
      "outputs": [
        {
          "output_type": "execute_result",
          "data": {
            "text/plain": [
              "True"
            ]
          },
          "metadata": {
            "tags": []
          },
          "execution_count": 26
        }
      ]
    },
    {
      "cell_type": "code",
      "metadata": {
        "id": "Tu1BB3FAvz8-",
        "colab": {
          "base_uri": "https://localhost:8080/"
        },
        "outputId": "87d90c2a-ed0a-4b11-f433-a63649bd383d"
      },
      "source": [
        "# 0 or 0 = 0 (Note that this is the only case in which the 'or' logical operator generates a False output)\n",
        "False or False # when both are false using 'OR' it generates a False output"
      ],
      "execution_count": 27,
      "outputs": [
        {
          "output_type": "execute_result",
          "data": {
            "text/plain": [
              "False"
            ]
          },
          "metadata": {
            "tags": []
          },
          "execution_count": 27
        }
      ]
    },
    {
      "cell_type": "code",
      "metadata": {
        "id": "KC9ArCvsvz7J",
        "colab": {
          "base_uri": "https://localhost:8080/"
        },
        "outputId": "557fb8ad-650b-4cd9-c4d3-341a5ae051aa"
      },
      "source": [
        " # True and False = False \n",
        "True and False"
      ],
      "execution_count": 28,
      "outputs": [
        {
          "output_type": "execute_result",
          "data": {
            "text/plain": [
              "False"
            ]
          },
          "metadata": {
            "tags": []
          },
          "execution_count": 28
        }
      ]
    },
    {
      "cell_type": "code",
      "metadata": {
        "id": "1kVyRF3Avz5V",
        "colab": {
          "base_uri": "https://localhost:8080/"
        },
        "outputId": "aadf0be8-dd7c-4d3c-e5c4-58a78e738c01"
      },
      "source": [
        "# True or False = True\n",
        "True or False"
      ],
      "execution_count": 29,
      "outputs": [
        {
          "output_type": "execute_result",
          "data": {
            "text/plain": [
              "True"
            ]
          },
          "metadata": {
            "tags": []
          },
          "execution_count": 29
        }
      ]
    },
    {
      "cell_type": "code",
      "metadata": {
        "id": "ykbLx-ZjS2d_",
        "outputId": "07b0734e-47b9-4e20-d30a-6d49d03042ab",
        "colab": {
          "base_uri": "https://localhost:8080/"
        }
      },
      "source": [
        "print((10>3) and (5==5))\n",
        "print((10<3) and (5==5))\n",
        "print((10<3) or (5==5))"
      ],
      "execution_count": 35,
      "outputs": [
        {
          "output_type": "stream",
          "text": [
            "True\n",
            "False\n",
            "True\n"
          ],
          "name": "stdout"
        }
      ]
    },
    {
      "cell_type": "markdown",
      "metadata": {
        "id": "vjvXsd7ezN4y"
      },
      "source": [
        "**MINI CHALLENGE #2:**\n",
        "- **Without executing the code cell, What will these two lines of code generate?**\n",
        "\n",
        "```\n",
        "print('FINANCE'!='FINANCE' and (10 > 3) and (20 == 20)) \n",
        "```\n",
        "\n",
        "```\n",
        "print('Finance'!='FINANCE' or (16 > 20) or (25 == 25)) \n",
        "```\n"
      ]
    },
    {
      "cell_type": "code",
      "metadata": {
        "id": "4u7cWLq15VZt"
      },
      "source": [
        "# ANSWERS\n",
        "# False and True and True = False\n",
        "# False or False or True = True "
      ],
      "execution_count": null,
      "outputs": []
    },
    {
      "cell_type": "code",
      "metadata": {
        "id": "O2UvwMqgR3q9",
        "outputId": "2b76deaa-357e-4674-820f-9a19a142d14d",
        "colab": {
          "base_uri": "https://localhost:8080/"
        }
      },
      "source": [
        "# Check\n",
        "print('FINANCE'!='FINANCE' and (10 > 3) and (20 == 20)) \n",
        "print('Finance'!='FINANCE' or (16 > 20) or (25 == 25)) "
      ],
      "execution_count": 30,
      "outputs": [
        {
          "output_type": "stream",
          "text": [
            "False\n",
            "True\n"
          ],
          "name": "stdout"
        }
      ]
    },
    {
      "cell_type": "markdown",
      "metadata": {
        "id": "GVMXs0iZ0xJp"
      },
      "source": [
        "**MINI CHALLENGE #3:**\n",
        "- **Without executing the code cell, What will these two lines of code generate?**\n",
        "\n",
        "```\n",
        "a = 5\n",
        "b = 3.5\n",
        "\n",
        "print(a == b or a != b) \n",
        "print(a == b and a != b) \n",
        "```\n",
        "\n"
      ]
    },
    {
      "cell_type": "code",
      "metadata": {
        "id": "xA9pXas-5WJB"
      },
      "source": [
        "# ANSWERS\n",
        "# False or True = True\n",
        "# False and False = False"
      ],
      "execution_count": null,
      "outputs": []
    },
    {
      "cell_type": "code",
      "metadata": {
        "id": "HZDmlqnqShgJ",
        "outputId": "f9ca59d8-141e-4468-deda-6082fba790d4",
        "colab": {
          "base_uri": "https://localhost:8080/"
        }
      },
      "source": [
        "# Check\n",
        "a = 5\n",
        "b = 3.5\n",
        " \n",
        "print(a == b or a != b) \n",
        "print(a == b and a != b) "
      ],
      "execution_count": 31,
      "outputs": [
        {
          "output_type": "stream",
          "text": [
            "True\n",
            "False\n"
          ],
          "name": "stdout"
        }
      ]
    },
    {
      "cell_type": "markdown",
      "metadata": {
        "id": "STR2UADaxtHC"
      },
      "source": [
        "# 3. CONDITIONAL STATEMENTS"
      ]
    },
    {
      "cell_type": "markdown",
      "metadata": {
        "id": "owrJExRxX--G"
      },
      "source": [
        "- A simple if-else statement is written in Python as follows:\n",
        "\n",
        "```\n",
        "if condition:\n",
        "  statement #1\n",
        "else:\n",
        "  statement #2\n",
        "```\n",
        "\n",
        "- If the condition is true, execute the first indented statement\n",
        "- if the condition is not true, then execute the else indented statements. \n",
        "- Note that Python uses indentation (whitespace) to indicate code sections and scope."
      ]
    },
    {
      "cell_type": "code",
      "metadata": {
        "id": "9iiHeyl_xvte",
        "colab": {
          "base_uri": "https://localhost:8080/"
        },
        "outputId": "0e8a8498-d79b-4230-e7b3-644a5d98d1e9"
      },
      "source": [
        "if 10>9:\n",
        "  print('True')\n",
        "else:\n",
        "  print('False')"
      ],
      "execution_count": 36,
      "outputs": [
        {
          "output_type": "stream",
          "text": [
            "True\n"
          ],
          "name": "stdout"
        }
      ]
    },
    {
      "cell_type": "code",
      "metadata": {
        "id": "M05mmLIWxzCP",
        "colab": {
          "base_uri": "https://localhost:8080/"
        },
        "outputId": "7414acf4-e6f1-4c58-a5c8-2c385cb6422d"
      },
      "source": [
        "if 10<9:\n",
        "  print('True')\n",
        "else:\n",
        "  print('False')"
      ],
      "execution_count": 37,
      "outputs": [
        {
          "output_type": "stream",
          "text": [
            "False\n"
          ],
          "name": "stdout"
        }
      ]
    },
    {
      "cell_type": "code",
      "metadata": {
        "id": "4i8g3ORFxzFn",
        "colab": {
          "base_uri": "https://localhost:8080/"
        },
        "outputId": "e0869e99-7fba-4802-fc13-7df3e1979f95"
      },
      "source": [
        "# Colon is necessary in each statement -> if, elif and else\n",
        "\n",
        "if 3==4:\n",
        "  print('First statement is True')\n",
        "elif 4>5:\n",
        "  print('Second statement is True')\n",
        "else:\n",
        "  print('Last statement is True')\n"
      ],
      "execution_count": 40,
      "outputs": [
        {
          "output_type": "stream",
          "text": [
            "Last statement is True\n"
          ],
          "name": "stdout"
        }
      ]
    },
    {
      "cell_type": "code",
      "metadata": {
        "id": "cZKbXTtVxzAG",
        "colab": {
          "base_uri": "https://localhost:8080/"
        },
        "outputId": "9552958f-8acf-4900-93cb-703ff8e2f053"
      },
      "source": [
        "# In this particular case the conditional statement will stop when the first statement is True\n",
        "# As the first statement is True it ends in the first\n",
        "\n",
        "if 5<7:\n",
        "  print('First statement is True')\n",
        "elif 2>4:\n",
        "  print('Second statement is True')\n",
        "else:\n",
        "  print('Last statement is True')"
      ],
      "execution_count": 41,
      "outputs": [
        {
          "output_type": "stream",
          "text": [
            "First statement is True\n"
          ],
          "name": "stdout"
        }
      ]
    },
    {
      "cell_type": "code",
      "metadata": {
        "id": "qXCMo76Wxy95",
        "colab": {
          "base_uri": "https://localhost:8080/"
        },
        "outputId": "e131f5ca-9479-4c8e-a2b1-3777724dfb99"
      },
      "source": [
        "# Let's take an input from the user and grant or deny access accordingly\n",
        "name = input(' Please enter your name ')\n",
        "if name == 'Giuliano':\n",
        "  print('Access granted!')\n",
        "else:\n",
        "  print('Access has been denied')"
      ],
      "execution_count": 42,
      "outputs": [
        {
          "output_type": "stream",
          "text": [
            " Please enter your name Giuliano\n",
            "Access granted!\n"
          ],
          "name": "stdout"
        }
      ]
    },
    {
      "cell_type": "code",
      "metadata": {
        "id": "mgZaUUxhxy75",
        "colab": {
          "base_uri": "https://localhost:8080/"
        },
        "outputId": "bdd6ed45-87a9-409f-ef66-ac904eefdb62"
      },
      "source": [
        "# Let's make the code more robust (case insensitive)\n",
        "# When using 'or' means that just need one to be True then everything will be True!\n",
        "name_1 = input(' Please enter your name ')\n",
        "if name == 'Giuliano' or name == 'GIULIANO' or name == 'giuliano':\n",
        "  print('Access granted!')\n",
        "else:\n",
        "  print('Access has been denied')\n"
      ],
      "execution_count": 44,
      "outputs": [
        {
          "output_type": "stream",
          "text": [
            " Please enter your name gIuLiAno\n",
            "Access granted!\n"
          ],
          "name": "stdout"
        }
      ]
    },
    {
      "cell_type": "markdown",
      "metadata": {
        "id": "E9b_qCZ12Baz"
      },
      "source": [
        "**MINI CHALLENGE #4:**\n",
        "- **Write a code that takes a number from the user and indicates if it's positive or negative**"
      ]
    },
    {
      "cell_type": "code",
      "metadata": {
        "id": "I4-RpDvp2kHG",
        "colab": {
          "base_uri": "https://localhost:8080/"
        },
        "outputId": "fde96cb5-bfc1-41ba-b1c8-852079adc8af"
      },
      "source": [
        "user_name = input(' What is your name? ')\n",
        "user_number = int(input(' What is  your userId? '))\n",
        "\n",
        "if user_number < 0:\n",
        "  print('Negative number')\n",
        "elif user_number > 0:\n",
        "  print('Positive number')\n",
        "else: \n",
        "  print('Zero number')"
      ],
      "execution_count": 49,
      "outputs": [
        {
          "output_type": "stream",
          "text": [
            " What is your name? Giuliano\n",
            " What is  your userId? 0\n",
            "Zero number\n"
          ],
          "name": "stdout"
        }
      ]
    },
    {
      "cell_type": "markdown",
      "metadata": {
        "id": "OnJwHMUe2Ztp"
      },
      "source": [
        "**MINI CHALLENGE #5:**\n",
        "- **Write a code that takes a number from the user and checks if the number is divisible by 3 but is not a multiple of 7**"
      ]
    },
    {
      "cell_type": "code",
      "metadata": {
        "id": "KHv409N93OjP",
        "colab": {
          "base_uri": "https://localhost:8080/"
        },
        "outputId": "195eea8c-f306-494e-fe3d-658ce665f07e"
      },
      "source": [
        "i = int(input(' Enter a number between 1 and 100 '))\n",
        "if (i % 3 == 0) and (i % 7 != 0):\n",
        "  print('Number satisfies the requirements: divisible by 3 and NOT multiple of 7')\n",
        "else:\n",
        "  print('Number does not satisfy the requirements')"
      ],
      "execution_count": 51,
      "outputs": [
        {
          "output_type": "stream",
          "text": [
            " Enter a number between 1 and 100 5\n",
            "Number does not satisfie the requirements\n"
          ],
          "name": "stdout"
        }
      ]
    },
    {
      "cell_type": "markdown",
      "metadata": {
        "id": "bMs3OKSo29_D"
      },
      "source": [
        "**MINI CHALLENGE #6:** \n",
        "- **Write a code that takes a number from the user and indicate if the number is even or odd**"
      ]
    },
    {
      "cell_type": "code",
      "metadata": {
        "id": "RaDyZQqC28Ya",
        "colab": {
          "base_uri": "https://localhost:8080/"
        },
        "outputId": "c7be686b-3dc4-4e19-96b0-304dcd2280c6"
      },
      "source": [
        "o = int(input(' Enter a number between 1 and 100 '))\n",
        "if (o % 2 == 0):\n",
        "  print('It is a even number')\n",
        "else:\n",
        "  print('It is a odd number')"
      ],
      "execution_count": 54,
      "outputs": [
        {
          "output_type": "stream",
          "text": [
            " Enter a number between 1 and 100 12\n",
            "It is a even number\n"
          ],
          "name": "stdout"
        }
      ]
    },
    {
      "cell_type": "markdown",
      "metadata": {
        "id": "OHTSxeq90GFt"
      },
      "source": [
        "# MINI CHALLENGE SOLUTIONS"
      ]
    },
    {
      "cell_type": "markdown",
      "metadata": {
        "id": "_TkjGyHolLOh"
      },
      "source": [
        "**MINI CHALLENGE #1 SOLUTION:**\n",
        "- **Without executing the code cell, What will this code generate?**\n",
        "\n",
        "```\n",
        "stock_1_price = 15\n",
        "stock_2_price = 10\n",
        "\n",
        "print(stock_1_price == stock_2_price) \n",
        "print(stock_1_price != stock_2_price) \n",
        "print(stock_1_price > stock_2_price)\n",
        "print(stock_1_price < stock_2_price) \n",
        "```\n"
      ]
    },
    {
      "cell_type": "code",
      "metadata": {
        "id": "jI9I6Xv4lLOi",
        "colab": {
          "base_uri": "https://localhost:8080/",
          "height": 84
        },
        "outputId": "ce45f272-cf22-437b-db2f-54eedd5045f6"
      },
      "source": [
        "stock_1_price = 15\n",
        "stock_2_price = 10\n",
        "\n",
        "print(stock_1_price == stock_2_price) \n",
        "print(stock_1_price != stock_2_price) \n",
        "print(stock_1_price > stock_2_price)\n",
        "print(stock_1_price < stock_2_price) "
      ],
      "execution_count": null,
      "outputs": [
        {
          "output_type": "stream",
          "text": [
            "False\n",
            "True\n",
            "True\n",
            "False\n"
          ],
          "name": "stdout"
        }
      ]
    },
    {
      "cell_type": "markdown",
      "metadata": {
        "id": "vuw6vDPK0Jmd"
      },
      "source": [
        "**MINI CHALLENGE #2 SOLUTION:**\n",
        "- **Without executing the code cell, What will these two lines of code generate?**\n",
        "\n",
        "```\n",
        "print( 'Finance'!='FINANCE' and (10 > 3) and (20 == 20)) \n",
        "```\n",
        "\n",
        "```\n",
        "print( 'Finance'!='FINANCE' or (16 > 20) or (25 == 25)) \n",
        "```\n"
      ]
    },
    {
      "cell_type": "code",
      "metadata": {
        "id": "gYd-N11Y0NZC",
        "colab": {
          "base_uri": "https://localhost:8080/",
          "height": 34
        },
        "outputId": "a843dafa-d0d5-4ec4-c1a9-fc023604658a"
      },
      "source": [
        "# FALSE and TRUE and TRUE\n",
        "print('FINANCE'!='FINANCE' and (10 > 3) and (20 == 20)) "
      ],
      "execution_count": null,
      "outputs": [
        {
          "output_type": "stream",
          "text": [
            "False\n"
          ],
          "name": "stdout"
        }
      ]
    },
    {
      "cell_type": "code",
      "metadata": {
        "id": "CaWri1bQ0Pys",
        "colab": {
          "base_uri": "https://localhost:8080/",
          "height": 34
        },
        "outputId": "316520fa-847a-44b2-a027-ae71b2de898e"
      },
      "source": [
        "# TRUE or FALSE or TRUE\n",
        "print('Finance'!='FINANCE' or (16 > 20) or (25 == 25)) "
      ],
      "execution_count": null,
      "outputs": [
        {
          "output_type": "stream",
          "text": [
            "True\n"
          ],
          "name": "stdout"
        }
      ]
    },
    {
      "cell_type": "markdown",
      "metadata": {
        "id": "ckRo860a1YRo"
      },
      "source": [
        "**MINI CHALLENGE #3 SOLUTION:**\n",
        "- **Without executing the code cell, What will these two lines of code generate?**\n",
        "\n",
        "```\n",
        "a = 5\n",
        "b = 3.5\n",
        "\n",
        "print(a == b or a != b) \n",
        "print(a == b and a != b) \n",
        "```\n"
      ]
    },
    {
      "cell_type": "code",
      "metadata": {
        "id": "eFMOENhv1avh",
        "colab": {
          "base_uri": "https://localhost:8080/",
          "height": 50
        },
        "outputId": "016c2b13-1cb1-401e-8832-31258dac3a7c"
      },
      "source": [
        "a = 5\n",
        "b = 3.5\n",
        "\n",
        "print(a == b or a != b) # False or True = True \n",
        "print(a == b and a != b) # False and True = False"
      ],
      "execution_count": null,
      "outputs": [
        {
          "output_type": "stream",
          "text": [
            "True\n",
            "False\n"
          ],
          "name": "stdout"
        }
      ]
    },
    {
      "cell_type": "markdown",
      "metadata": {
        "id": "7Utj-SiU3UuK"
      },
      "source": [
        "**MINI CHALLENGE #4 SOLUTION:**\n",
        "- **Write a code that takes a number from the user and indicates if it's positive or negative or zero**"
      ]
    },
    {
      "cell_type": "code",
      "metadata": {
        "id": "JtX7pRr03Y7r",
        "colab": {
          "base_uri": "https://localhost:8080/",
          "height": 50
        },
        "outputId": "6a96004f-ee9e-4498-90cb-8e166716e890"
      },
      "source": [
        "x = int(input(\"Please enter an integer: \"))\n",
        "\n",
        "if x < 0:\n",
        "    print('Number is Negative')\n",
        "elif x > 0:\n",
        "    print('Number is Positive')\n",
        "else:    \n",
        "    print ('Number is zero')"
      ],
      "execution_count": null,
      "outputs": [
        {
          "output_type": "stream",
          "text": [
            "Please enter an integer: 9\n",
            "Number is Positive\n"
          ],
          "name": "stdout"
        }
      ]
    },
    {
      "cell_type": "markdown",
      "metadata": {
        "id": "4yvXX18Y3UuL"
      },
      "source": [
        "**MINI CHALLENGE #5 SOLUTION:**\n",
        "- **Write a code that takes a number from the user and checks if the number is divisible by 3 but is not a multiple of 7**"
      ]
    },
    {
      "cell_type": "code",
      "metadata": {
        "id": "mmyi-AFc3ZLd",
        "colab": {
          "base_uri": "https://localhost:8080/",
          "height": 50
        },
        "outputId": "58d90f3e-52d0-4c44-e9fd-7be93a43e2de"
      },
      "source": [
        "# Try 21\n",
        "\n",
        "i = int(input(\"Enter a number between 1 and 100:\"))\n",
        "\n",
        "if (i % 3 == 0) and (i % 7 !=0):\n",
        "    print(\"Number satisfies the requirement; The number is divisible by 3 and not multiple of 7\")\n",
        "else:\n",
        "    print(\"The number does not satisfy the requirements\")\n"
      ],
      "execution_count": null,
      "outputs": [
        {
          "output_type": "stream",
          "text": [
            "Enter a number between 1 and 100:21\n",
            "The number does not satisfy the requirements\n"
          ],
          "name": "stdout"
        }
      ]
    },
    {
      "cell_type": "markdown",
      "metadata": {
        "id": "Y-I6GMYA3UuM"
      },
      "source": [
        "**MINI CHALLENGE #6 SOLUTION:** \n",
        "- **Write a code that takes a number from the user and indicate if the number is even or odd**"
      ]
    },
    {
      "cell_type": "code",
      "metadata": {
        "id": "VNWzhMS03Z71",
        "colab": {
          "base_uri": "https://localhost:8080/",
          "height": 50
        },
        "outputId": "18804c8b-4b77-4b25-e79e-51c9aefa0fa9"
      },
      "source": [
        "x = int(input(\"Please enter an integer from 1 to 1000: \"))\n",
        "\n",
        "if x % 2==0:\n",
        "    print('Number is Even')\n",
        "else:\n",
        "    print('Number is odd')"
      ],
      "execution_count": null,
      "outputs": [
        {
          "output_type": "stream",
          "text": [
            "Please enter an integer from 1 to 1000: 50\n",
            "Number is Even\n"
          ],
          "name": "stdout"
        }
      ]
    }
  ]
}